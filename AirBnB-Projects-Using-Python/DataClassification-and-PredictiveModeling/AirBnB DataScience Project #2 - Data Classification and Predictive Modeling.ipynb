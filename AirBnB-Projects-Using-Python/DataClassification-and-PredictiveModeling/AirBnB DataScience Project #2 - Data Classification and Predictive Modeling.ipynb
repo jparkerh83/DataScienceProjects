{
 "cells": [
  {
   "cell_type": "markdown",
   "metadata": {
    "collapsed": true
   },
   "source": [
    "# AirBnB New York: Data Classification and Predictive Model Analysis"
   ]
  },
  {
   "cell_type": "markdown",
   "metadata": {},
   "source": [
    "#### Team Members: Parker Herrin, Matthew Rosenbloom, Shazia Zaman"
   ]
  },
  {
   "cell_type": "markdown",
   "metadata": {},
   "source": [
    "# Overview"
   ]
  },
  {
   "cell_type": "markdown",
   "metadata": {},
   "source": [
    "For this assignment, we will continue our focus on analyzing the AirBnB dataset of listings for New York City based on May 2016 data. However, because the majority of listings occur in the neighborhood group of Manhattan and based on the variables we are attempting to classify, our dataset will be modified to only view listings within Manhattan. Further duscussion and details are included throughout the assignment."
   ]
  },
  {
   "cell_type": "code",
   "execution_count": 2,
   "metadata": {
    "collapsed": false
   },
   "outputs": [
    {
     "name": "stderr",
     "output_type": "stream",
     "text": [
      "C:\\Anaconda3\\lib\\site-packages\\IPython\\html.py:14: ShimWarning: The `IPython.html` package has been deprecated. You should import from `notebook` instead. `IPython.html.widgets` has moved to `ipywidgets`.\n",
      "  \"`IPython.html.widgets` has moved to `ipywidgets`.\", ShimWarning)\n"
     ]
    }
   ],
   "source": [
    "# Add all imports being used in the application\n",
    "import pandas as pd\n",
    "import numpy as np\n",
    "import matplotlib.pyplot as plt\n",
    "import warnings\n",
    "import seaborn as sns\n",
    "from __future__ import print_function\n",
    "from sklearn.cross_validation import ShuffleSplit\n",
    "from sklearn import metrics as mt\n",
    "from sklearn.pipeline import Pipeline\n",
    "from pandas.tools.plotting import boxplot\n",
    "\n",
    "from sklearn.cross_validation import StratifiedShuffleSplit\n",
    "from sklearn.neighbors import KNeighborsClassifier\n",
    "from sklearn.metrics import accuracy_score\n",
    "from IPython.html import widgets \n",
    "from sklearn import metrics as mt\n",
    "\n",
    "from sklearn.naive_bayes import MultinomialNB\n",
    "from sklearn.naive_bayes import BernoulliNB\n",
    "from sklearn.naive_bayes import GaussianNB\n",
    "\n",
    "from sklearn.ensemble import RandomForestClassifier \n",
    "\n",
    "from matplotlib.colors import ListedColormap\n",
    "from sklearn import neighbors, datasets\n",
    "\n",
    "from sklearn.tree import DecisionTreeClassifier\n",
    "\n",
    "warnings.simplefilter('ignore', DeprecationWarning)\n",
    "%matplotlib inline"
   ]
  },
  {
   "cell_type": "markdown",
   "metadata": {},
   "source": [
    "## 1. Data Preparation"
   ]
  },
  {
   "cell_type": "markdown",
   "metadata": {},
   "source": [
    "There will essentially be three datasets that we will need to create for our analysis.\n",
    "1. All Manhattan listings to be used to predict \"Neighbourhood\" with attributes: Neighbourhood Group, Neighbourhood, Room Type, Price, Minimum Nights, Number of Reviews, Calculated Host Listings, and Availability 365\n",
    "2. All Manhattan listings to be used to predict \"Price Range\" with attributes: Neighbourhood Group (Manhattan only), Neighbourhood, Room Type, Price, Minimum Nights, Number of Reviews, Calculated Host Listings and Availability 365. \n",
    "3. Same dataset as above, but to include Latitude and Longitude in the dataset to see if including these as variables improves the model's accuracy."
   ]
  },
  {
   "cell_type": "code",
   "execution_count": 3,
   "metadata": {
    "collapsed": false
   },
   "outputs": [
    {
     "data": {
      "text/html": [
       "<div>\n",
       "<table border=\"1\" class=\"dataframe\">\n",
       "  <thead>\n",
       "    <tr style=\"text-align: right;\">\n",
       "      <th></th>\n",
       "      <th>id</th>\n",
       "      <th>name</th>\n",
       "      <th>host_id</th>\n",
       "      <th>host_name</th>\n",
       "      <th>neighbourhood_group</th>\n",
       "      <th>neighbourhood</th>\n",
       "      <th>latitude</th>\n",
       "      <th>longitude</th>\n",
       "      <th>room_type</th>\n",
       "      <th>price</th>\n",
       "      <th>minimum_nights</th>\n",
       "      <th>number_of_reviews</th>\n",
       "      <th>last_review</th>\n",
       "      <th>reviews_per_month</th>\n",
       "      <th>calculated_host_listings_count</th>\n",
       "      <th>availability_365</th>\n",
       "    </tr>\n",
       "  </thead>\n",
       "  <tbody>\n",
       "    <tr>\n",
       "      <th>0</th>\n",
       "      <td>8736827</td>\n",
       "      <td>Rain or Shine Studios</td>\n",
       "      <td>45837698</td>\n",
       "      <td>Brian</td>\n",
       "      <td>Brooklyn</td>\n",
       "      <td>Sheepshead Bay</td>\n",
       "      <td>40.585989</td>\n",
       "      <td>-73.927617</td>\n",
       "      <td>Entire home/apt</td>\n",
       "      <td>2000</td>\n",
       "      <td>1</td>\n",
       "      <td>1</td>\n",
       "      <td>10/27/15</td>\n",
       "      <td>0.16</td>\n",
       "      <td>1</td>\n",
       "      <td>365</td>\n",
       "    </tr>\n",
       "    <tr>\n",
       "      <th>1</th>\n",
       "      <td>12270528</td>\n",
       "      <td>This is another cool listing in NYC</td>\n",
       "      <td>1667768</td>\n",
       "      <td>Martin</td>\n",
       "      <td>Manhattan</td>\n",
       "      <td>Financial District</td>\n",
       "      <td>40.704064</td>\n",
       "      <td>-74.016377</td>\n",
       "      <td>Entire home/apt</td>\n",
       "      <td>2000</td>\n",
       "      <td>1</td>\n",
       "      <td>0</td>\n",
       "      <td>NaN</td>\n",
       "      <td>NaN</td>\n",
       "      <td>2</td>\n",
       "      <td>365</td>\n",
       "    </tr>\n",
       "    <tr>\n",
       "      <th>2</th>\n",
       "      <td>5582283</td>\n",
       "      <td>Cozy bedroom in Brooklyn Sunsetpark</td>\n",
       "      <td>26098783</td>\n",
       "      <td>Sam</td>\n",
       "      <td>Brooklyn</td>\n",
       "      <td>Sunset Park</td>\n",
       "      <td>40.651185</td>\n",
       "      <td>-74.008421</td>\n",
       "      <td>Private room</td>\n",
       "      <td>2000</td>\n",
       "      <td>2</td>\n",
       "      <td>0</td>\n",
       "      <td>NaN</td>\n",
       "      <td>NaN</td>\n",
       "      <td>2</td>\n",
       "      <td>365</td>\n",
       "    </tr>\n",
       "    <tr>\n",
       "      <th>3</th>\n",
       "      <td>10549650</td>\n",
       "      <td>Prime Location Luxury Tribeca Loft</td>\n",
       "      <td>25996073</td>\n",
       "      <td>Jonathan</td>\n",
       "      <td>Manhattan</td>\n",
       "      <td>Tribeca</td>\n",
       "      <td>40.719915</td>\n",
       "      <td>-74.006409</td>\n",
       "      <td>Entire home/apt</td>\n",
       "      <td>2000</td>\n",
       "      <td>1</td>\n",
       "      <td>0</td>\n",
       "      <td>NaN</td>\n",
       "      <td>NaN</td>\n",
       "      <td>1</td>\n",
       "      <td>365</td>\n",
       "    </tr>\n",
       "    <tr>\n",
       "      <th>4</th>\n",
       "      <td>8515213</td>\n",
       "      <td>Studio 250 New York City</td>\n",
       "      <td>44837740</td>\n",
       "      <td>David</td>\n",
       "      <td>Manhattan</td>\n",
       "      <td>Midtown</td>\n",
       "      <td>40.755063</td>\n",
       "      <td>-73.989683</td>\n",
       "      <td>Entire home/apt</td>\n",
       "      <td>2000</td>\n",
       "      <td>1</td>\n",
       "      <td>1</td>\n",
       "      <td>1/2/16</td>\n",
       "      <td>0.25</td>\n",
       "      <td>1</td>\n",
       "      <td>351</td>\n",
       "    </tr>\n",
       "  </tbody>\n",
       "</table>\n",
       "</div>"
      ],
      "text/plain": [
       "         id                                 name   host_id host_name  \\\n",
       "0   8736827                Rain or Shine Studios  45837698     Brian   \n",
       "1  12270528  This is another cool listing in NYC   1667768    Martin   \n",
       "2   5582283  Cozy bedroom in Brooklyn Sunsetpark  26098783       Sam   \n",
       "3  10549650   Prime Location Luxury Tribeca Loft  25996073  Jonathan   \n",
       "4   8515213             Studio 250 New York City  44837740     David   \n",
       "\n",
       "  neighbourhood_group       neighbourhood   latitude  longitude  \\\n",
       "0            Brooklyn      Sheepshead Bay  40.585989 -73.927617   \n",
       "1           Manhattan  Financial District  40.704064 -74.016377   \n",
       "2            Brooklyn         Sunset Park  40.651185 -74.008421   \n",
       "3           Manhattan             Tribeca  40.719915 -74.006409   \n",
       "4           Manhattan             Midtown  40.755063 -73.989683   \n",
       "\n",
       "         room_type  price  minimum_nights  number_of_reviews last_review  \\\n",
       "0  Entire home/apt   2000               1                  1    10/27/15   \n",
       "1  Entire home/apt   2000               1                  0         NaN   \n",
       "2     Private room   2000               2                  0         NaN   \n",
       "3  Entire home/apt   2000               1                  0         NaN   \n",
       "4  Entire home/apt   2000               1                  1      1/2/16   \n",
       "\n",
       "   reviews_per_month  calculated_host_listings_count  availability_365  \n",
       "0               0.16                               1               365  \n",
       "1                NaN                               2               365  \n",
       "2                NaN                               2               365  \n",
       "3                NaN                               1               365  \n",
       "4               0.25                               1               351  "
      ]
     },
     "execution_count": 3,
     "metadata": {},
     "output_type": "execute_result"
    }
   ],
   "source": [
    "# read csv file and review it\n",
    "listNYC = pd.read_csv('airbnb_listings_NYC.csv', encoding = \"ISO-8859-1\") # read in the \"listings\" csv\n",
    "listNYC.head()"
   ]
  },
  {
   "cell_type": "code",
   "execution_count": 4,
   "metadata": {
    "collapsed": false
   },
   "outputs": [
    {
     "name": "stdout",
     "output_type": "stream",
     "text": [
      "<class 'pandas.core.frame.DataFrame'>\n",
      "RangeIndex: 32546 entries, 0 to 32545\n",
      "Data columns (total 19 columns):\n",
      "id                                32546 non-null int64\n",
      "name                              32545 non-null object\n",
      "host_id                           32546 non-null int64\n",
      "host_name                         32541 non-null object\n",
      "neighbourhood_group               32546 non-null object\n",
      "neighbourhood                     32546 non-null object\n",
      "latitude                          32546 non-null float64\n",
      "longitude                         32546 non-null float64\n",
      "room_type                         32546 non-null object\n",
      "price                             32546 non-null int64\n",
      "minimum_nights                    32546 non-null int64\n",
      "number_of_reviews                 32546 non-null int64\n",
      "last_review                       25076 non-null object\n",
      "reviews_per_month                 25076 non-null float64\n",
      "calculated_host_listings_count    32546 non-null int64\n",
      "availability_365                  32546 non-null int64\n",
      "Entire home/apt                   32546 non-null int64\n",
      "Private room                      32546 non-null int64\n",
      "Shared room                       32546 non-null int64\n",
      "dtypes: float64(3), int64(10), object(6)\n",
      "memory usage: 4.7+ MB\n"
     ]
    }
   ],
   "source": [
    "#convert room type as binary variable using One-Hot encoding\n",
    "room_type_enc = pd.get_dummies(listNYC['room_type'], prefix=None, prefix_sep='_', dummy_na=False, columns='room_type', sparse=False, drop_first=False)\n",
    "room_type_enc.head()\n",
    "listNYC = pd.concat([listNYC, room_type_enc], axis=1)\n",
    "room_types = list(dict(room_type_enc.dtypes).keys())\n",
    "#room_types = ['Entire home/apt', 'Private room','Shared room']\n",
    "\n",
    "#change data type for new room types categories to integer\n",
    "listNYC[room_types]=listNYC[room_types].astype(np.int64)\n",
    "listNYC.info()"
   ]
  },
  {
   "cell_type": "code",
   "execution_count": 5,
   "metadata": {
    "collapsed": false
   },
   "outputs": [
    {
     "name": "stdout",
     "output_type": "stream",
     "text": [
      "Some statistics about airbnb listing\n",
      "Price - Mean: 146.97839980335525 Standard deviation: 134.84786005818793\n",
      "Price - Median: 115.0\n",
      "Price - Min: 10 Max: 2000\n"
     ]
    }
   ],
   "source": [
    "#print some statistics\n",
    "print('Some statistics about airbnb listing')\n",
    "print('Price - Mean:', listNYC.price.mean(), 'Standard deviation:', listNYC.price.std())\n",
    "print ('Price - Median:',listNYC.price.median())\n",
    "print('Price - Min:', listNYC.price.min(), 'Max:', listNYC.price.max())"
   ]
  },
  {
   "cell_type": "code",
   "execution_count": 6,
   "metadata": {
    "collapsed": false
   },
   "outputs": [
    {
     "data": {
      "text/plain": [
       "<matplotlib.text.Text at 0x1f7481f3048>"
      ]
     },
     "execution_count": 6,
     "metadata": {},
     "output_type": "execute_result"
    },
    {
     "data": {
      "image/png": "[encoded data removed]",
      "text/plain": [
       "<matplotlib.figure.Figure at 0x1f74886ea58>"
      ]
     },
     "metadata": {},
     "output_type": "display_data"
    }
   ],
   "source": [
    "#create histogram for price to check normality\n",
    "price_hist_plot = listNYC['price'].plot(kind='hist',alpha=0.5,bins=50)\n",
    "price_hist_plot.set_title('Price per night chart')\n",
    "price_hist_plot.set_xlabel('Price ($)')\n",
    "price_hist_plot.set_ylabel('Number of properties')"
   ]
  },
  {
   "cell_type": "code",
   "execution_count": 7,
   "metadata": {
    "collapsed": false
   },
   "outputs": [
    {
     "data": {
      "text/plain": [
       "<matplotlib.text.Text at 0x1f748904828>"
      ]
     },
     "execution_count": 7,
     "metadata": {},
     "output_type": "execute_result"
    },
    {
     "data": {
      "image/png": "[encoded data removed]",
      "text/plain": [
       "<matplotlib.figure.Figure at 0x1f748255c18>"
      ]
     },
     "metadata": {},
     "output_type": "display_data"
    }
   ],
   "source": [
    "#create box plot for price\n",
    "price_box_plot = listNYC['price'].plot(kind='box')\n",
    "price_box_plot.set_title('Price per night chart')"
   ]
  },
  {
   "cell_type": "code",
   "execution_count": 8,
   "metadata": {
    "collapsed": false
   },
   "outputs": [
    {
     "name": "stdout",
     "output_type": "stream",
     "text": [
      "Some statistics about airbnb listing after eliminating dataset with price > 1000\n",
      "Price - Mean: 142.7644085557542 Standard deviation: 110.3670818036138\n",
      "Price - Median: 113.0\n",
      "Price - Min: 10 Max: 1000\n"
     ]
    }
   ],
   "source": [
    "#filter the dataset with price < 2000\n",
    "listNYC = listNYC[listNYC.price <= 1000]\n",
    "#print some statistics\n",
    "print('Some statistics about airbnb listing after eliminating dataset with price > 1000')\n",
    "print('Price - Mean:', listNYC.price.mean(), 'Standard deviation:', listNYC.price.std())\n",
    "print ('Price - Median:',listNYC.price.median())\n",
    "print('Price - Min:', listNYC.price.min(), 'Max:', listNYC.price.max())"
   ]
  },
  {
   "cell_type": "code",
   "execution_count": 9,
   "metadata": {
    "collapsed": false
   },
   "outputs": [
    {
     "data": {
      "text/plain": [
       "<matplotlib.text.Text at 0x1f748a113c8>"
      ]
     },
     "execution_count": 9,
     "metadata": {},
     "output_type": "execute_result"
    },
    {
     "data": {
      "image/png": "[encoded data removed]",
      "text/plain": [
       "<matplotlib.figure.Figure at 0x1f74890e780>"
      ]
     },
     "metadata": {},
     "output_type": "display_data"
    }
   ],
   "source": [
    "#create histogram for price to check normality\n",
    "price_hist_plot = listNYC['price'].plot(kind='hist',alpha=0.5,bins=50)\n",
    "price_hist_plot.set_title('Price per night chart after removing prices > 1000')\n",
    "price_hist_plot.set_xlabel('Price ($)')\n",
    "price_hist_plot.set_ylabel('Number of properties')"
   ]
  },
  {
   "cell_type": "code",
   "execution_count": 10,
   "metadata": {
    "collapsed": false
   },
   "outputs": [
    {
     "data": {
      "text/plain": [
       "<matplotlib.text.Text at 0x1f748f6bfd0>"
      ]
     },
     "execution_count": 10,
     "metadata": {},
     "output_type": "execute_result"
    },
    {
     "data": {
      "image/png": "[encoded data removed]",
      "text/plain": [
       "<matplotlib.figure.Figure at 0x1f74825ff98>"
      ]
     },
     "metadata": {},
     "output_type": "display_data"
    }
   ],
   "source": [
    "#create box plot for price\n",
    "price_box_plot.set_title('Price per night chart after removing prices > 1000')\n",
    "price_box_plot = listNYC['price'].plot(kind='box')\n",
    "price_box_plot.set_title('Price per night chart')"
   ]
  },
  {
   "cell_type": "code",
   "execution_count": 11,
   "metadata": {
    "collapsed": false
   },
   "outputs": [
    {
     "data": {
      "text/html": [
       "<div>\n",
       "<table border=\"1\" class=\"dataframe\">\n",
       "  <thead>\n",
       "    <tr style=\"text-align: right;\">\n",
       "      <th></th>\n",
       "      <th>neighbourhood_group</th>\n",
       "      <th>neighbourhood</th>\n",
       "      <th>Entire home/apt</th>\n",
       "      <th>Private room</th>\n",
       "      <th>Shared room</th>\n",
       "      <th>price</th>\n",
       "      <th>minimum_nights</th>\n",
       "      <th>number_of_reviews</th>\n",
       "      <th>calculated_host_listings_count</th>\n",
       "      <th>availability_365</th>\n",
       "    </tr>\n",
       "  </thead>\n",
       "  <tbody>\n",
       "    <tr>\n",
       "      <th>102</th>\n",
       "      <td>Manhattan</td>\n",
       "      <td>Hell's Kitchen</td>\n",
       "      <td>1</td>\n",
       "      <td>0</td>\n",
       "      <td>0</td>\n",
       "      <td>1000</td>\n",
       "      <td>1</td>\n",
       "      <td>0</td>\n",
       "      <td>1</td>\n",
       "      <td>365</td>\n",
       "    </tr>\n",
       "    <tr>\n",
       "      <th>106</th>\n",
       "      <td>Manhattan</td>\n",
       "      <td>Gramercy</td>\n",
       "      <td>1</td>\n",
       "      <td>0</td>\n",
       "      <td>0</td>\n",
       "      <td>1000</td>\n",
       "      <td>7</td>\n",
       "      <td>0</td>\n",
       "      <td>1</td>\n",
       "      <td>365</td>\n",
       "    </tr>\n",
       "    <tr>\n",
       "      <th>107</th>\n",
       "      <td>Manhattan</td>\n",
       "      <td>Morningside Heights</td>\n",
       "      <td>1</td>\n",
       "      <td>0</td>\n",
       "      <td>0</td>\n",
       "      <td>1000</td>\n",
       "      <td>1</td>\n",
       "      <td>0</td>\n",
       "      <td>2</td>\n",
       "      <td>365</td>\n",
       "    </tr>\n",
       "    <tr>\n",
       "      <th>109</th>\n",
       "      <td>Manhattan</td>\n",
       "      <td>West Village</td>\n",
       "      <td>1</td>\n",
       "      <td>0</td>\n",
       "      <td>0</td>\n",
       "      <td>1000</td>\n",
       "      <td>3</td>\n",
       "      <td>1</td>\n",
       "      <td>1</td>\n",
       "      <td>365</td>\n",
       "    </tr>\n",
       "    <tr>\n",
       "      <th>110</th>\n",
       "      <td>Manhattan</td>\n",
       "      <td>East Village</td>\n",
       "      <td>1</td>\n",
       "      <td>0</td>\n",
       "      <td>0</td>\n",
       "      <td>1000</td>\n",
       "      <td>1</td>\n",
       "      <td>0</td>\n",
       "      <td>1</td>\n",
       "      <td>364</td>\n",
       "    </tr>\n",
       "  </tbody>\n",
       "</table>\n",
       "</div>"
      ],
      "text/plain": [
       "    neighbourhood_group        neighbourhood  Entire home/apt  Private room  \\\n",
       "102           Manhattan       Hell's Kitchen                1             0   \n",
       "106           Manhattan             Gramercy                1             0   \n",
       "107           Manhattan  Morningside Heights                1             0   \n",
       "109           Manhattan         West Village                1             0   \n",
       "110           Manhattan         East Village                1             0   \n",
       "\n",
       "     Shared room  price  minimum_nights  number_of_reviews  \\\n",
       "102            0   1000               1                  0   \n",
       "106            0   1000               7                  0   \n",
       "107            0   1000               1                  0   \n",
       "109            0   1000               3                  1   \n",
       "110            0   1000               1                  0   \n",
       "\n",
       "     calculated_host_listings_count  availability_365  \n",
       "102                               1               365  \n",
       "106                               1               365  \n",
       "107                               2               365  \n",
       "109                               1               365  \n",
       "110                               1               364  "
      ]
     },
     "execution_count": 11,
     "metadata": {},
     "output_type": "execute_result"
    }
   ],
   "source": [
    "#Modify listNYC to only include required attributes\n",
    "listNYC_ng = listNYC[['neighbourhood_group','neighbourhood','Entire home/apt'\n",
    "                      ,'Private room','Shared room','price','minimum_nights'\n",
    "                      ,'number_of_reviews','calculated_host_listings_count'\n",
    "                      ,'availability_365']]\n",
    "listNYC_ng = listNYC_ng[(listNYC.neighbourhood_group == 'Manhattan')].copy(deep=True)\n",
    "listNYC_ng.head()"
   ]
  },
  {
   "cell_type": "code",
   "execution_count": 12,
   "metadata": {
    "collapsed": false
   },
   "outputs": [
    {
     "name": "stdout",
     "output_type": "stream",
     "text": [
      "Some statistics about airbnb listed as nieghbourhood group\n",
      "Price - Mean: 171.8373712901272 Standard deviation: 123.09962722487151\n",
      "Price - Median: 145.0\n",
      "Price - Min: 10 Max: 1000\n"
     ]
    }
   ],
   "source": [
    "#print some statistics\n",
    "print('Some statistics about airbnb listed as nieghbourhood group')\n",
    "print('Price - Mean:', listNYC_ng.price.mean(), 'Standard deviation:', listNYC_ng.price.std())\n",
    "print ('Price - Median:',listNYC_ng.price.median())\n",
    "print('Price - Min:', listNYC_ng.price.min(), 'Max:', listNYC_ng.price.max())"
   ]
  },
  {
   "cell_type": "code",
   "execution_count": 13,
   "metadata": {
    "collapsed": false
   },
   "outputs": [
    {
     "data": {
      "text/plain": [
       "<matplotlib.text.Text at 0x1f749d99358>"
      ]
     },
     "execution_count": 13,
     "metadata": {},
     "output_type": "execute_result"
    },
    {
     "data": {
      "image/png": "[encoded data removed]",
      "text/plain": [
       "<matplotlib.figure.Figure at 0x1f748f734a8>"
      ]
     },
     "metadata": {},
     "output_type": "display_data"
    }
   ],
   "source": [
    "#create histogram for price to check normality\n",
    "price_hist_plot = listNYC_ng['price'].hist(bins=50)\n",
    "price_hist_plot.set_title('Price per night chart in neighbourhood groups')\n",
    "price_hist_plot.set_xlabel('Price ($)')\n",
    "price_hist_plot.set_ylabel('Number of properties')"
   ]
  },
  {
   "cell_type": "code",
   "execution_count": 14,
   "metadata": {
    "collapsed": false
   },
   "outputs": [
    {
     "data": {
      "text/plain": [
       "<matplotlib.text.Text at 0x1f74848d2e8>"
      ]
     },
     "execution_count": 14,
     "metadata": {},
     "output_type": "execute_result"
    },
    {
     "data": {
      "image/png": "[encoded data removed]",
      "text/plain": [
       "<matplotlib.figure.Figure at 0x1f748f73dd8>"
      ]
     },
     "metadata": {},
     "output_type": "display_data"
    }
   ],
   "source": [
    "#create box plot for price\n",
    "price_box_plot = listNYC_ng['price'].plot(kind='box')\n",
    "price_box_plot.set_title('Price per night chart in neighbourhood groups')"
   ]
  },
  {
   "cell_type": "code",
   "execution_count": 15,
   "metadata": {
    "collapsed": false
   },
   "outputs": [
    {
     "data": {
      "text/html": [
       "<div>\n",
       "<table border=\"1\" class=\"dataframe\">\n",
       "  <thead>\n",
       "    <tr style=\"text-align: right;\">\n",
       "      <th></th>\n",
       "      <th>neighbourhood</th>\n",
       "      <th>Entire home/apt</th>\n",
       "      <th>Private room</th>\n",
       "      <th>Shared room</th>\n",
       "      <th>price</th>\n",
       "      <th>minimum_nights</th>\n",
       "      <th>number_of_reviews</th>\n",
       "      <th>calculated_host_listings_count</th>\n",
       "      <th>availability_365</th>\n",
       "    </tr>\n",
       "  </thead>\n",
       "  <tbody>\n",
       "    <tr>\n",
       "      <th>102</th>\n",
       "      <td>Hell's Kitchen</td>\n",
       "      <td>1</td>\n",
       "      <td>0</td>\n",
       "      <td>0</td>\n",
       "      <td>1000</td>\n",
       "      <td>1</td>\n",
       "      <td>0</td>\n",
       "      <td>1</td>\n",
       "      <td>365</td>\n",
       "    </tr>\n",
       "    <tr>\n",
       "      <th>106</th>\n",
       "      <td>Gramercy</td>\n",
       "      <td>1</td>\n",
       "      <td>0</td>\n",
       "      <td>0</td>\n",
       "      <td>1000</td>\n",
       "      <td>7</td>\n",
       "      <td>0</td>\n",
       "      <td>1</td>\n",
       "      <td>365</td>\n",
       "    </tr>\n",
       "    <tr>\n",
       "      <th>107</th>\n",
       "      <td>Morningside Heights</td>\n",
       "      <td>1</td>\n",
       "      <td>0</td>\n",
       "      <td>0</td>\n",
       "      <td>1000</td>\n",
       "      <td>1</td>\n",
       "      <td>0</td>\n",
       "      <td>2</td>\n",
       "      <td>365</td>\n",
       "    </tr>\n",
       "    <tr>\n",
       "      <th>109</th>\n",
       "      <td>West Village</td>\n",
       "      <td>1</td>\n",
       "      <td>0</td>\n",
       "      <td>0</td>\n",
       "      <td>1000</td>\n",
       "      <td>3</td>\n",
       "      <td>1</td>\n",
       "      <td>1</td>\n",
       "      <td>365</td>\n",
       "    </tr>\n",
       "    <tr>\n",
       "      <th>110</th>\n",
       "      <td>East Village</td>\n",
       "      <td>1</td>\n",
       "      <td>0</td>\n",
       "      <td>0</td>\n",
       "      <td>1000</td>\n",
       "      <td>1</td>\n",
       "      <td>0</td>\n",
       "      <td>1</td>\n",
       "      <td>364</td>\n",
       "    </tr>\n",
       "  </tbody>\n",
       "</table>\n",
       "</div>"
      ],
      "text/plain": [
       "           neighbourhood  Entire home/apt  Private room  Shared room  price  \\\n",
       "102       Hell's Kitchen                1             0            0   1000   \n",
       "106             Gramercy                1             0            0   1000   \n",
       "107  Morningside Heights                1             0            0   1000   \n",
       "109         West Village                1             0            0   1000   \n",
       "110         East Village                1             0            0   1000   \n",
       "\n",
       "     minimum_nights  number_of_reviews  calculated_host_listings_count  \\\n",
       "102               1                  0                               1   \n",
       "106               7                  0                               1   \n",
       "107               1                  0                               2   \n",
       "109               3                  1                               1   \n",
       "110               1                  0                               1   \n",
       "\n",
       "     availability_365  \n",
       "102               365  \n",
       "106               365  \n",
       "107               365  \n",
       "109               365  \n",
       "110               364  "
      ]
     },
     "execution_count": 15,
     "metadata": {},
     "output_type": "execute_result"
    }
   ],
   "source": [
    "#Filter data set with Manhattan neighbourhood group\n",
    "listNYC_Manhattan = listNYC[(listNYC.neighbourhood_group == 'Manhattan')]\n",
    "listNYC_Manhattan = listNYC_Manhattan[['neighbourhood','Entire home/apt','Private room','Shared room','price','minimum_nights','number_of_reviews','calculated_host_listings_count','availability_365']]\n",
    "listNYC_Manhattan = listNYC_Manhattan.copy(deep=True)\n",
    "listNYC_Manhattan.head()"
   ]
  },
  {
   "cell_type": "code",
   "execution_count": 16,
   "metadata": {
    "collapsed": false
   },
   "outputs": [
    {
     "name": "stdout",
     "output_type": "stream",
     "text": [
      "<class 'pandas.core.frame.DataFrame'>\n",
      "Int64Index: 16510 entries, 102 to 32545\n",
      "Data columns (total 41 columns):\n",
      "neighbourhood                     16510 non-null object\n",
      "Entire home/apt                   16510 non-null int64\n",
      "Private room                      16510 non-null int64\n",
      "Shared room                       16510 non-null int64\n",
      "price                             16510 non-null int64\n",
      "minimum_nights                    16510 non-null int64\n",
      "number_of_reviews                 16510 non-null int64\n",
      "calculated_host_listings_count    16510 non-null int64\n",
      "availability_365                  16510 non-null int64\n",
      "Battery Park City                 16510 non-null int64\n",
      "Chelsea                           16510 non-null int64\n",
      "Chinatown                         16510 non-null int64\n",
      "Civic Center                      16510 non-null int64\n",
      "East Harlem                       16510 non-null int64\n",
      "East Village                      16510 non-null int64\n",
      "Financial District                16510 non-null int64\n",
      "Flatiron District                 16510 non-null int64\n",
      "Gramercy                          16510 non-null int64\n",
      "Greenwich Village                 16510 non-null int64\n",
      "Harlem                            16510 non-null int64\n",
      "Hell's Kitchen                    16510 non-null int64\n",
      "Inwood                            16510 non-null int64\n",
      "Kips Bay                          16510 non-null int64\n",
      "Little Italy                      16510 non-null int64\n",
      "Lower East Side                   16510 non-null int64\n",
      "Marble Hill                       16510 non-null int64\n",
      "Midtown                           16510 non-null int64\n",
      "Morningside Heights               16510 non-null int64\n",
      "Murray Hill                       16510 non-null int64\n",
      "NoHo                              16510 non-null int64\n",
      "Nolita                            16510 non-null int64\n",
      "Roosevelt Island                  16510 non-null int64\n",
      "SoHo                              16510 non-null int64\n",
      "Stuyvesant Town                   16510 non-null int64\n",
      "Theater District                  16510 non-null int64\n",
      "Tribeca                           16510 non-null int64\n",
      "Two Bridges                       16510 non-null int64\n",
      "Upper East Side                   16510 non-null int64\n",
      "Upper West Side                   16510 non-null int64\n",
      "Washington Heights                16510 non-null int64\n",
      "West Village                      16510 non-null int64\n",
      "dtypes: int64(40), object(1)\n",
      "memory usage: 5.3+ MB\n"
     ]
    }
   ],
   "source": [
    "#convert neighbourhoods in Manhattan as binary variable using One-Hot encoding\n",
    "neighbourhood_enc = pd.get_dummies(listNYC_Manhattan['neighbourhood'], prefix=None, prefix_sep='_', dummy_na=False, columns='neighbourhood', sparse=False, drop_first=False)\n",
    "neighbourhood_enc.head()\n",
    "\n",
    "neighbourhoods = list(dict(neighbourhood_enc.dtypes).keys())\n",
    "\n",
    "listNYC_Manhattan = pd.concat([listNYC_Manhattan, neighbourhood_enc], axis=1)\n",
    "\n",
    "#change data type for new neighbourhood types categories to integer\n",
    "listNYC_Manhattan[neighbourhoods]=listNYC_Manhattan[neighbourhoods].astype(np.int64)\n",
    "#del listNYC_Manhattan['neighbourhood']\n",
    "listNYC_Manhattan.info()"
   ]
  },
  {
   "cell_type": "code",
   "execution_count": 17,
   "metadata": {
    "collapsed": false
   },
   "outputs": [
    {
     "data": {
      "text/html": [
       "<div>\n",
       "<table border=\"1\" class=\"dataframe\">\n",
       "  <thead>\n",
       "    <tr style=\"text-align: right;\">\n",
       "      <th></th>\n",
       "      <th>neighbourhood</th>\n",
       "      <th>Entire home/apt</th>\n",
       "      <th>Private room</th>\n",
       "      <th>Shared room</th>\n",
       "      <th>price</th>\n",
       "      <th>minimum_nights</th>\n",
       "      <th>number_of_reviews</th>\n",
       "      <th>calculated_host_listings_count</th>\n",
       "      <th>availability_365</th>\n",
       "      <th>Battery Park City</th>\n",
       "      <th>...</th>\n",
       "      <th>Roosevelt Island</th>\n",
       "      <th>SoHo</th>\n",
       "      <th>Stuyvesant Town</th>\n",
       "      <th>Theater District</th>\n",
       "      <th>Tribeca</th>\n",
       "      <th>Two Bridges</th>\n",
       "      <th>Upper East Side</th>\n",
       "      <th>Upper West Side</th>\n",
       "      <th>Washington Heights</th>\n",
       "      <th>West Village</th>\n",
       "    </tr>\n",
       "  </thead>\n",
       "  <tbody>\n",
       "    <tr>\n",
       "      <th>102</th>\n",
       "      <td>Hell's Kitchen</td>\n",
       "      <td>1</td>\n",
       "      <td>0</td>\n",
       "      <td>0</td>\n",
       "      <td>1000</td>\n",
       "      <td>1</td>\n",
       "      <td>0</td>\n",
       "      <td>1</td>\n",
       "      <td>365</td>\n",
       "      <td>0</td>\n",
       "      <td>...</td>\n",
       "      <td>0</td>\n",
       "      <td>0</td>\n",
       "      <td>0</td>\n",
       "      <td>0</td>\n",
       "      <td>0</td>\n",
       "      <td>0</td>\n",
       "      <td>0</td>\n",
       "      <td>0</td>\n",
       "      <td>0</td>\n",
       "      <td>0</td>\n",
       "    </tr>\n",
       "    <tr>\n",
       "      <th>106</th>\n",
       "      <td>Gramercy</td>\n",
       "      <td>1</td>\n",
       "      <td>0</td>\n",
       "      <td>0</td>\n",
       "      <td>1000</td>\n",
       "      <td>7</td>\n",
       "      <td>0</td>\n",
       "      <td>1</td>\n",
       "      <td>365</td>\n",
       "      <td>0</td>\n",
       "      <td>...</td>\n",
       "      <td>0</td>\n",
       "      <td>0</td>\n",
       "      <td>0</td>\n",
       "      <td>0</td>\n",
       "      <td>0</td>\n",
       "      <td>0</td>\n",
       "      <td>0</td>\n",
       "      <td>0</td>\n",
       "      <td>0</td>\n",
       "      <td>0</td>\n",
       "    </tr>\n",
       "    <tr>\n",
       "      <th>107</th>\n",
       "      <td>Morningside Heights</td>\n",
       "      <td>1</td>\n",
       "      <td>0</td>\n",
       "      <td>0</td>\n",
       "      <td>1000</td>\n",
       "      <td>1</td>\n",
       "      <td>0</td>\n",
       "      <td>2</td>\n",
       "      <td>365</td>\n",
       "      <td>0</td>\n",
       "      <td>...</td>\n",
       "      <td>0</td>\n",
       "      <td>0</td>\n",
       "      <td>0</td>\n",
       "      <td>0</td>\n",
       "      <td>0</td>\n",
       "      <td>0</td>\n",
       "      <td>0</td>\n",
       "      <td>0</td>\n",
       "      <td>0</td>\n",
       "      <td>0</td>\n",
       "    </tr>\n",
       "    <tr>\n",
       "      <th>109</th>\n",
       "      <td>West Village</td>\n",
       "      <td>1</td>\n",
       "      <td>0</td>\n",
       "      <td>0</td>\n",
       "      <td>1000</td>\n",
       "      <td>3</td>\n",
       "      <td>1</td>\n",
       "      <td>1</td>\n",
       "      <td>365</td>\n",
       "      <td>0</td>\n",
       "      <td>...</td>\n",
       "      <td>0</td>\n",
       "      <td>0</td>\n",
       "      <td>0</td>\n",
       "      <td>0</td>\n",
       "      <td>0</td>\n",
       "      <td>0</td>\n",
       "      <td>0</td>\n",
       "      <td>0</td>\n",
       "      <td>0</td>\n",
       "      <td>1</td>\n",
       "    </tr>\n",
       "    <tr>\n",
       "      <th>110</th>\n",
       "      <td>East Village</td>\n",
       "      <td>1</td>\n",
       "      <td>0</td>\n",
       "      <td>0</td>\n",
       "      <td>1000</td>\n",
       "      <td>1</td>\n",
       "      <td>0</td>\n",
       "      <td>1</td>\n",
       "      <td>364</td>\n",
       "      <td>0</td>\n",
       "      <td>...</td>\n",
       "      <td>0</td>\n",
       "      <td>0</td>\n",
       "      <td>0</td>\n",
       "      <td>0</td>\n",
       "      <td>0</td>\n",
       "      <td>0</td>\n",
       "      <td>0</td>\n",
       "      <td>0</td>\n",
       "      <td>0</td>\n",
       "      <td>0</td>\n",
       "    </tr>\n",
       "  </tbody>\n",
       "</table>\n",
       "<p>5 rows × 41 columns</p>\n",
       "</div>"
      ],
      "text/plain": [
       "           neighbourhood  Entire home/apt  Private room  Shared room  price  \\\n",
       "102       Hell's Kitchen                1             0            0   1000   \n",
       "106             Gramercy                1             0            0   1000   \n",
       "107  Morningside Heights                1             0            0   1000   \n",
       "109         West Village                1             0            0   1000   \n",
       "110         East Village                1             0            0   1000   \n",
       "\n",
       "     minimum_nights  number_of_reviews  calculated_host_listings_count  \\\n",
       "102               1                  0                               1   \n",
       "106               7                  0                               1   \n",
       "107               1                  0                               2   \n",
       "109               3                  1                               1   \n",
       "110               1                  0                               1   \n",
       "\n",
       "     availability_365  Battery Park City      ...       Roosevelt Island  \\\n",
       "102               365                  0      ...                      0   \n",
       "106               365                  0      ...                      0   \n",
       "107               365                  0      ...                      0   \n",
       "109               365                  0      ...                      0   \n",
       "110               364                  0      ...                      0   \n",
       "\n",
       "     SoHo  Stuyvesant Town  Theater District  Tribeca  Two Bridges  \\\n",
       "102     0                0                 0        0            0   \n",
       "106     0                0                 0        0            0   \n",
       "107     0                0                 0        0            0   \n",
       "109     0                0                 0        0            0   \n",
       "110     0                0                 0        0            0   \n",
       "\n",
       "     Upper East Side  Upper West Side  Washington Heights  West Village  \n",
       "102                0                0                   0             0  \n",
       "106                0                0                   0             0  \n",
       "107                0                0                   0             0  \n",
       "109                0                0                   0             1  \n",
       "110                0                0                   0             0  \n",
       "\n",
       "[5 rows x 41 columns]"
      ]
     },
     "execution_count": 17,
     "metadata": {},
     "output_type": "execute_result"
    }
   ],
   "source": [
    "#print some records to evaluate\n",
    "listNYC_Manhattan.head()"
   ]
  },
  {
   "cell_type": "code",
   "execution_count": 18,
   "metadata": {
    "collapsed": false
   },
   "outputs": [
    {
     "name": "stdout",
     "output_type": "stream",
     "text": [
      "Some statistics about airbnb listing in Manhattan nieghbourhood group\n",
      "Price - Mean: 171.8373712901272 Standard deviation: 123.09962722487151\n",
      "Price - Median: 145.0\n",
      "Price - Min: 10 Max: 1000\n"
     ]
    }
   ],
   "source": [
    "#print some statistics\n",
    "listNYC_Manhattan_mean = listNYC_Manhattan.price.mean()\n",
    "listNYC_Manhattan_median = listNYC_Manhattan.price.median()\n",
    "listNYC_Manhattan_std = listNYC_Manhattan.price.std()\n",
    "listNYC_Manhattan_min = listNYC_Manhattan.price.min()\n",
    "listNYC_Manhattan_max = listNYC_Manhattan.price.max()\n",
    "\n",
    "print('Some statistics about airbnb listing in Manhattan nieghbourhood group')\n",
    "print('Price - Mean:',listNYC_Manhattan_mean , 'Standard deviation:', listNYC_Manhattan_std)\n",
    "print ('Price - Median:',listNYC_Manhattan_median)\n",
    "print('Price - Min:',listNYC_Manhattan_min , 'Max:', listNYC_Manhattan_max )"
   ]
  },
  {
   "cell_type": "code",
   "execution_count": 19,
   "metadata": {
    "collapsed": false
   },
   "outputs": [
    {
     "data": {
      "text/html": [
       "<div>\n",
       "<table border=\"1\" class=\"dataframe\">\n",
       "  <thead>\n",
       "    <tr style=\"text-align: right;\">\n",
       "      <th></th>\n",
       "      <th>neighbourhood</th>\n",
       "      <th>Entire home/apt</th>\n",
       "      <th>Private room</th>\n",
       "      <th>Shared room</th>\n",
       "      <th>price</th>\n",
       "      <th>minimum_nights</th>\n",
       "      <th>number_of_reviews</th>\n",
       "      <th>calculated_host_listings_count</th>\n",
       "      <th>availability_365</th>\n",
       "      <th>Battery Park City</th>\n",
       "      <th>...</th>\n",
       "      <th>SoHo</th>\n",
       "      <th>Stuyvesant Town</th>\n",
       "      <th>Theater District</th>\n",
       "      <th>Tribeca</th>\n",
       "      <th>Two Bridges</th>\n",
       "      <th>Upper East Side</th>\n",
       "      <th>Upper West Side</th>\n",
       "      <th>Washington Heights</th>\n",
       "      <th>West Village</th>\n",
       "      <th>price_range</th>\n",
       "    </tr>\n",
       "  </thead>\n",
       "  <tbody>\n",
       "    <tr>\n",
       "      <th>102</th>\n",
       "      <td>Hell's Kitchen</td>\n",
       "      <td>1</td>\n",
       "      <td>0</td>\n",
       "      <td>0</td>\n",
       "      <td>1000</td>\n",
       "      <td>1</td>\n",
       "      <td>0</td>\n",
       "      <td>1</td>\n",
       "      <td>365</td>\n",
       "      <td>0</td>\n",
       "      <td>...</td>\n",
       "      <td>0</td>\n",
       "      <td>0</td>\n",
       "      <td>0</td>\n",
       "      <td>0</td>\n",
       "      <td>0</td>\n",
       "      <td>0</td>\n",
       "      <td>0</td>\n",
       "      <td>0</td>\n",
       "      <td>0</td>\n",
       "      <td>950+</td>\n",
       "    </tr>\n",
       "    <tr>\n",
       "      <th>106</th>\n",
       "      <td>Gramercy</td>\n",
       "      <td>1</td>\n",
       "      <td>0</td>\n",
       "      <td>0</td>\n",
       "      <td>1000</td>\n",
       "      <td>7</td>\n",
       "      <td>0</td>\n",
       "      <td>1</td>\n",
       "      <td>365</td>\n",
       "      <td>0</td>\n",
       "      <td>...</td>\n",
       "      <td>0</td>\n",
       "      <td>0</td>\n",
       "      <td>0</td>\n",
       "      <td>0</td>\n",
       "      <td>0</td>\n",
       "      <td>0</td>\n",
       "      <td>0</td>\n",
       "      <td>0</td>\n",
       "      <td>0</td>\n",
       "      <td>950+</td>\n",
       "    </tr>\n",
       "    <tr>\n",
       "      <th>107</th>\n",
       "      <td>Morningside Heights</td>\n",
       "      <td>1</td>\n",
       "      <td>0</td>\n",
       "      <td>0</td>\n",
       "      <td>1000</td>\n",
       "      <td>1</td>\n",
       "      <td>0</td>\n",
       "      <td>2</td>\n",
       "      <td>365</td>\n",
       "      <td>0</td>\n",
       "      <td>...</td>\n",
       "      <td>0</td>\n",
       "      <td>0</td>\n",
       "      <td>0</td>\n",
       "      <td>0</td>\n",
       "      <td>0</td>\n",
       "      <td>0</td>\n",
       "      <td>0</td>\n",
       "      <td>0</td>\n",
       "      <td>0</td>\n",
       "      <td>950+</td>\n",
       "    </tr>\n",
       "    <tr>\n",
       "      <th>109</th>\n",
       "      <td>West Village</td>\n",
       "      <td>1</td>\n",
       "      <td>0</td>\n",
       "      <td>0</td>\n",
       "      <td>1000</td>\n",
       "      <td>3</td>\n",
       "      <td>1</td>\n",
       "      <td>1</td>\n",
       "      <td>365</td>\n",
       "      <td>0</td>\n",
       "      <td>...</td>\n",
       "      <td>0</td>\n",
       "      <td>0</td>\n",
       "      <td>0</td>\n",
       "      <td>0</td>\n",
       "      <td>0</td>\n",
       "      <td>0</td>\n",
       "      <td>0</td>\n",
       "      <td>0</td>\n",
       "      <td>1</td>\n",
       "      <td>950+</td>\n",
       "    </tr>\n",
       "    <tr>\n",
       "      <th>110</th>\n",
       "      <td>East Village</td>\n",
       "      <td>1</td>\n",
       "      <td>0</td>\n",
       "      <td>0</td>\n",
       "      <td>1000</td>\n",
       "      <td>1</td>\n",
       "      <td>0</td>\n",
       "      <td>1</td>\n",
       "      <td>364</td>\n",
       "      <td>0</td>\n",
       "      <td>...</td>\n",
       "      <td>0</td>\n",
       "      <td>0</td>\n",
       "      <td>0</td>\n",
       "      <td>0</td>\n",
       "      <td>0</td>\n",
       "      <td>0</td>\n",
       "      <td>0</td>\n",
       "      <td>0</td>\n",
       "      <td>0</td>\n",
       "      <td>950+</td>\n",
       "    </tr>\n",
       "  </tbody>\n",
       "</table>\n",
       "<p>5 rows × 42 columns</p>\n",
       "</div>"
      ],
      "text/plain": [
       "           neighbourhood  Entire home/apt  Private room  Shared room  price  \\\n",
       "102       Hell's Kitchen                1             0            0   1000   \n",
       "106             Gramercy                1             0            0   1000   \n",
       "107  Morningside Heights                1             0            0   1000   \n",
       "109         West Village                1             0            0   1000   \n",
       "110         East Village                1             0            0   1000   \n",
       "\n",
       "     minimum_nights  number_of_reviews  calculated_host_listings_count  \\\n",
       "102               1                  0                               1   \n",
       "106               7                  0                               1   \n",
       "107               1                  0                               2   \n",
       "109               3                  1                               1   \n",
       "110               1                  0                               1   \n",
       "\n",
       "     availability_365  Battery Park City     ...       SoHo  Stuyvesant Town  \\\n",
       "102               365                  0     ...          0                0   \n",
       "106               365                  0     ...          0                0   \n",
       "107               365                  0     ...          0                0   \n",
       "109               365                  0     ...          0                0   \n",
       "110               364                  0     ...          0                0   \n",
       "\n",
       "     Theater District  Tribeca  Two Bridges  Upper East Side  Upper West Side  \\\n",
       "102                 0        0            0                0                0   \n",
       "106                 0        0            0                0                0   \n",
       "107                 0        0            0                0                0   \n",
       "109                 0        0            0                0                0   \n",
       "110                 0        0            0                0                0   \n",
       "\n",
       "     Washington Heights  West Village  price_range  \n",
       "102                   0             0         950+  \n",
       "106                   0             0         950+  \n",
       "107                   0             0         950+  \n",
       "109                   0             1         950+  \n",
       "110                   0             0         950+  \n",
       "\n",
       "[5 rows x 42 columns]"
      ]
     },
     "execution_count": 19,
     "metadata": {},
     "output_type": "execute_result"
    }
   ],
   "source": [
    "#create price bins for $50 incremental\n",
    "bins =  [0,50,100,150,200,250,300,350,400,450,500,550,600,650,700,750,800,850,900,950,1000]\n",
    "bin_names = ['0-49','50-99','100-149','150-199','200-249','250-299','300-349','350-399','400-449','450-499','500-549','550-599','600-649','650-699','700-749','750-799','800-849','850-899','900-949','950+']\n",
    "price_range = pd.cut(listNYC_Manhattan['price'], bins, labels=bin_names)\n",
    "listNYC_Manhattan['price_range'] = pd.cut(listNYC_Manhattan['price'], bins, labels=bin_names)\n",
    "listNYC_Manhattan.head()"
   ]
  },
  {
   "cell_type": "code",
   "execution_count": 20,
   "metadata": {
    "collapsed": false
   },
   "outputs": [
    {
     "data": {
      "image/png": "[encoded data removed]",
      "text/plain": [
       "<matplotlib.figure.Figure at 0x1f749ddff28>"
      ]
     },
     "metadata": {},
     "output_type": "display_data"
    }
   ],
   "source": [
    "#create histogram for price to check normality\n",
    "price_hist_plot = listNYC_Manhattan['price'].hist(by=listNYC_Manhattan['price_range'], figsize=(10,10))\n",
    "#price_hist_plot.set_title('Price per night chart in Manhattan neighbourhood group')\n",
    "#price_hist_plot.set_xlabel('Price ($)')\n",
    "#price_hist_plot.set_ylabel('Number of properties')"
   ]
  },
  {
   "cell_type": "code",
   "execution_count": 21,
   "metadata": {
    "collapsed": false
   },
   "outputs": [
    {
     "data": {
      "text/plain": [
       "<matplotlib.axes._subplots.AxesSubplot at 0x1f748b8bc88>"
      ]
     },
     "execution_count": 21,
     "metadata": {},
     "output_type": "execute_result"
    },
    {
     "data": {
      "image/png": "[encoded data removed]",
      "text/plain": [
       "<matplotlib.figure.Figure at 0x1f74b9c5518>"
      ]
     },
     "metadata": {},
     "output_type": "display_data"
    }
   ],
   "source": [
    "#create box plot for price\n",
    "listNYC_Manhattan.boxplot(column='price', by='price_range', ax=None, fontsize=None, rot=0, grid=False, figsize=(10,10), layout=None, return_type=None)\n",
    "#price_box_plot = listNYC_Manhattan['price'].plot(kind='box', by='price_range')\n",
    "#price_box_plot.set_title('Price per night chart in Manhattan neighbourhood group')"
   ]
  },
  {
   "cell_type": "code",
   "execution_count": 22,
   "metadata": {
    "collapsed": false
   },
   "outputs": [
    {
     "name": "stdout",
     "output_type": "stream",
     "text": [
      "<class 'pandas.core.frame.DataFrame'>\n",
      "Int64Index: 16510 entries, 102 to 32545\n",
      "Data columns (total 62 columns):\n",
      "neighbourhood                     16510 non-null object\n",
      "Entire home/apt                   16510 non-null int64\n",
      "Private room                      16510 non-null int64\n",
      "Shared room                       16510 non-null int64\n",
      "price                             16510 non-null int64\n",
      "minimum_nights                    16510 non-null int64\n",
      "number_of_reviews                 16510 non-null int64\n",
      "calculated_host_listings_count    16510 non-null int64\n",
      "availability_365                  16510 non-null int64\n",
      "Battery Park City                 16510 non-null int64\n",
      "Chelsea                           16510 non-null int64\n",
      "Chinatown                         16510 non-null int64\n",
      "Civic Center                      16510 non-null int64\n",
      "East Harlem                       16510 non-null int64\n",
      "East Village                      16510 non-null int64\n",
      "Financial District                16510 non-null int64\n",
      "Flatiron District                 16510 non-null int64\n",
      "Gramercy                          16510 non-null int64\n",
      "Greenwich Village                 16510 non-null int64\n",
      "Harlem                            16510 non-null int64\n",
      "Hell's Kitchen                    16510 non-null int64\n",
      "Inwood                            16510 non-null int64\n",
      "Kips Bay                          16510 non-null int64\n",
      "Little Italy                      16510 non-null int64\n",
      "Lower East Side                   16510 non-null int64\n",
      "Marble Hill                       16510 non-null int64\n",
      "Midtown                           16510 non-null int64\n",
      "Morningside Heights               16510 non-null int64\n",
      "Murray Hill                       16510 non-null int64\n",
      "NoHo                              16510 non-null int64\n",
      "Nolita                            16510 non-null int64\n",
      "Roosevelt Island                  16510 non-null int64\n",
      "SoHo                              16510 non-null int64\n",
      "Stuyvesant Town                   16510 non-null int64\n",
      "Theater District                  16510 non-null int64\n",
      "Tribeca                           16510 non-null int64\n",
      "Two Bridges                       16510 non-null int64\n",
      "Upper East Side                   16510 non-null int64\n",
      "Upper West Side                   16510 non-null int64\n",
      "Washington Heights                16510 non-null int64\n",
      "West Village                      16510 non-null int64\n",
      "price_range                       16510 non-null category\n",
      "0-49                              16510 non-null int64\n",
      "50-99                             16510 non-null int64\n",
      "100-149                           16510 non-null int64\n",
      "150-199                           16510 non-null int64\n",
      "200-249                           16510 non-null int64\n",
      "250-299                           16510 non-null int64\n",
      "300-349                           16510 non-null int64\n",
      "350-399                           16510 non-null int64\n",
      "400-449                           16510 non-null int64\n",
      "450-499                           16510 non-null int64\n",
      "500-549                           16510 non-null int64\n",
      "550-599                           16510 non-null int64\n",
      "600-649                           16510 non-null int64\n",
      "650-699                           16510 non-null int64\n",
      "700-749                           16510 non-null int64\n",
      "750-799                           16510 non-null int64\n",
      "800-849                           16510 non-null int64\n",
      "850-899                           16510 non-null int64\n",
      "900-949                           16510 non-null int64\n",
      "950+                              16510 non-null int64\n",
      "dtypes: category(1), int64(60), object(1)\n",
      "memory usage: 7.8+ MB\n"
     ]
    }
   ],
   "source": [
    "#convert neighbourhoods in Manhattan as binary variable using One-Hot encoding\n",
    "price_enc = pd.get_dummies(listNYC_Manhattan['price_range'], prefix=None, prefix_sep='_', dummy_na=False, columns='price_range', sparse=False, drop_first=False)\n",
    "price_enc.head()\n",
    "\n",
    "price_bins = list(dict(price_enc.dtypes).keys())\n",
    "\n",
    "listNYC_Manhattan = pd.concat([listNYC_Manhattan, price_enc], axis=1)\n",
    "\n",
    "#change data type for new neighbourhood types categories to integer\n",
    "listNYC_Manhattan[price_bins]=listNYC_Manhattan[price_bins].astype(np.int64)\n",
    "#del listNYC_Manhattan['price_range']\n",
    "listNYC_Manhattan.info()"
   ]
  },
  {
   "cell_type": "code",
   "execution_count": 23,
   "metadata": {
    "collapsed": false
   },
   "outputs": [
    {
     "data": {
      "text/html": [
       "<div>\n",
       "<table border=\"1\" class=\"dataframe\">\n",
       "  <thead>\n",
       "    <tr style=\"text-align: right;\">\n",
       "      <th></th>\n",
       "      <th>neighbourhood</th>\n",
       "      <th>Entire home/apt</th>\n",
       "      <th>Private room</th>\n",
       "      <th>Shared room</th>\n",
       "      <th>price</th>\n",
       "      <th>minimum_nights</th>\n",
       "      <th>number_of_reviews</th>\n",
       "      <th>calculated_host_listings_count</th>\n",
       "      <th>availability_365</th>\n",
       "      <th>Battery Park City</th>\n",
       "      <th>...</th>\n",
       "      <th>500-549</th>\n",
       "      <th>550-599</th>\n",
       "      <th>600-649</th>\n",
       "      <th>650-699</th>\n",
       "      <th>700-749</th>\n",
       "      <th>750-799</th>\n",
       "      <th>800-849</th>\n",
       "      <th>850-899</th>\n",
       "      <th>900-949</th>\n",
       "      <th>950+</th>\n",
       "    </tr>\n",
       "  </thead>\n",
       "  <tbody>\n",
       "    <tr>\n",
       "      <th>102</th>\n",
       "      <td>Hell's Kitchen</td>\n",
       "      <td>1</td>\n",
       "      <td>0</td>\n",
       "      <td>0</td>\n",
       "      <td>1000</td>\n",
       "      <td>1</td>\n",
       "      <td>0</td>\n",
       "      <td>1</td>\n",
       "      <td>365</td>\n",
       "      <td>0</td>\n",
       "      <td>...</td>\n",
       "      <td>0</td>\n",
       "      <td>0</td>\n",
       "      <td>0</td>\n",
       "      <td>0</td>\n",
       "      <td>0</td>\n",
       "      <td>0</td>\n",
       "      <td>0</td>\n",
       "      <td>0</td>\n",
       "      <td>0</td>\n",
       "      <td>1</td>\n",
       "    </tr>\n",
       "    <tr>\n",
       "      <th>106</th>\n",
       "      <td>Gramercy</td>\n",
       "      <td>1</td>\n",
       "      <td>0</td>\n",
       "      <td>0</td>\n",
       "      <td>1000</td>\n",
       "      <td>7</td>\n",
       "      <td>0</td>\n",
       "      <td>1</td>\n",
       "      <td>365</td>\n",
       "      <td>0</td>\n",
       "      <td>...</td>\n",
       "      <td>0</td>\n",
       "      <td>0</td>\n",
       "      <td>0</td>\n",
       "      <td>0</td>\n",
       "      <td>0</td>\n",
       "      <td>0</td>\n",
       "      <td>0</td>\n",
       "      <td>0</td>\n",
       "      <td>0</td>\n",
       "      <td>1</td>\n",
       "    </tr>\n",
       "    <tr>\n",
       "      <th>107</th>\n",
       "      <td>Morningside Heights</td>\n",
       "      <td>1</td>\n",
       "      <td>0</td>\n",
       "      <td>0</td>\n",
       "      <td>1000</td>\n",
       "      <td>1</td>\n",
       "      <td>0</td>\n",
       "      <td>2</td>\n",
       "      <td>365</td>\n",
       "      <td>0</td>\n",
       "      <td>...</td>\n",
       "      <td>0</td>\n",
       "      <td>0</td>\n",
       "      <td>0</td>\n",
       "      <td>0</td>\n",
       "      <td>0</td>\n",
       "      <td>0</td>\n",
       "      <td>0</td>\n",
       "      <td>0</td>\n",
       "      <td>0</td>\n",
       "      <td>1</td>\n",
       "    </tr>\n",
       "    <tr>\n",
       "      <th>109</th>\n",
       "      <td>West Village</td>\n",
       "      <td>1</td>\n",
       "      <td>0</td>\n",
       "      <td>0</td>\n",
       "      <td>1000</td>\n",
       "      <td>3</td>\n",
       "      <td>1</td>\n",
       "      <td>1</td>\n",
       "      <td>365</td>\n",
       "      <td>0</td>\n",
       "      <td>...</td>\n",
       "      <td>0</td>\n",
       "      <td>0</td>\n",
       "      <td>0</td>\n",
       "      <td>0</td>\n",
       "      <td>0</td>\n",
       "      <td>0</td>\n",
       "      <td>0</td>\n",
       "      <td>0</td>\n",
       "      <td>0</td>\n",
       "      <td>1</td>\n",
       "    </tr>\n",
       "    <tr>\n",
       "      <th>110</th>\n",
       "      <td>East Village</td>\n",
       "      <td>1</td>\n",
       "      <td>0</td>\n",
       "      <td>0</td>\n",
       "      <td>1000</td>\n",
       "      <td>1</td>\n",
       "      <td>0</td>\n",
       "      <td>1</td>\n",
       "      <td>364</td>\n",
       "      <td>0</td>\n",
       "      <td>...</td>\n",
       "      <td>0</td>\n",
       "      <td>0</td>\n",
       "      <td>0</td>\n",
       "      <td>0</td>\n",
       "      <td>0</td>\n",
       "      <td>0</td>\n",
       "      <td>0</td>\n",
       "      <td>0</td>\n",
       "      <td>0</td>\n",
       "      <td>1</td>\n",
       "    </tr>\n",
       "  </tbody>\n",
       "</table>\n",
       "<p>5 rows × 62 columns</p>\n",
       "</div>"
      ],
      "text/plain": [
       "           neighbourhood  Entire home/apt  Private room  Shared room  price  \\\n",
       "102       Hell's Kitchen                1             0            0   1000   \n",
       "106             Gramercy                1             0            0   1000   \n",
       "107  Morningside Heights                1             0            0   1000   \n",
       "109         West Village                1             0            0   1000   \n",
       "110         East Village                1             0            0   1000   \n",
       "\n",
       "     minimum_nights  number_of_reviews  calculated_host_listings_count  \\\n",
       "102               1                  0                               1   \n",
       "106               7                  0                               1   \n",
       "107               1                  0                               2   \n",
       "109               3                  1                               1   \n",
       "110               1                  0                               1   \n",
       "\n",
       "     availability_365  Battery Park City  ...   500-549  550-599  600-649  \\\n",
       "102               365                  0  ...         0        0        0   \n",
       "106               365                  0  ...         0        0        0   \n",
       "107               365                  0  ...         0        0        0   \n",
       "109               365                  0  ...         0        0        0   \n",
       "110               364                  0  ...         0        0        0   \n",
       "\n",
       "     650-699  700-749  750-799  800-849  850-899  900-949  950+  \n",
       "102        0        0        0        0        0        0     1  \n",
       "106        0        0        0        0        0        0     1  \n",
       "107        0        0        0        0        0        0     1  \n",
       "109        0        0        0        0        0        0     1  \n",
       "110        0        0        0        0        0        0     1  \n",
       "\n",
       "[5 rows x 62 columns]"
      ]
     },
     "execution_count": 23,
     "metadata": {},
     "output_type": "execute_result"
    }
   ],
   "source": [
    "#print some records to evaluate\n",
    "listNYC_Manhattan.head()"
   ]
  },
  {
   "cell_type": "code",
   "execution_count": 24,
   "metadata": {
    "collapsed": false
   },
   "outputs": [
    {
     "data": {
      "text/html": [
       "<div>\n",
       "<table border=\"1\" class=\"dataframe\">\n",
       "  <thead>\n",
       "    <tr style=\"text-align: right;\">\n",
       "      <th></th>\n",
       "      <th>neighbourhood</th>\n",
       "      <th>latitude</th>\n",
       "      <th>longitude</th>\n",
       "      <th>Entire home/apt</th>\n",
       "      <th>Private room</th>\n",
       "      <th>Shared room</th>\n",
       "      <th>price</th>\n",
       "      <th>minimum_nights</th>\n",
       "      <th>number_of_reviews</th>\n",
       "      <th>calculated_host_listings_count</th>\n",
       "      <th>availability_365</th>\n",
       "    </tr>\n",
       "  </thead>\n",
       "  <tbody>\n",
       "    <tr>\n",
       "      <th>102</th>\n",
       "      <td>Hell's Kitchen</td>\n",
       "      <td>40.759301</td>\n",
       "      <td>-73.991435</td>\n",
       "      <td>1</td>\n",
       "      <td>0</td>\n",
       "      <td>0</td>\n",
       "      <td>1000</td>\n",
       "      <td>1</td>\n",
       "      <td>0</td>\n",
       "      <td>1</td>\n",
       "      <td>365</td>\n",
       "    </tr>\n",
       "    <tr>\n",
       "      <th>106</th>\n",
       "      <td>Gramercy</td>\n",
       "      <td>40.736614</td>\n",
       "      <td>-73.987059</td>\n",
       "      <td>1</td>\n",
       "      <td>0</td>\n",
       "      <td>0</td>\n",
       "      <td>1000</td>\n",
       "      <td>7</td>\n",
       "      <td>0</td>\n",
       "      <td>1</td>\n",
       "      <td>365</td>\n",
       "    </tr>\n",
       "    <tr>\n",
       "      <th>107</th>\n",
       "      <td>Morningside Heights</td>\n",
       "      <td>40.812335</td>\n",
       "      <td>-73.957163</td>\n",
       "      <td>1</td>\n",
       "      <td>0</td>\n",
       "      <td>0</td>\n",
       "      <td>1000</td>\n",
       "      <td>1</td>\n",
       "      <td>0</td>\n",
       "      <td>2</td>\n",
       "      <td>365</td>\n",
       "    </tr>\n",
       "    <tr>\n",
       "      <th>109</th>\n",
       "      <td>West Village</td>\n",
       "      <td>40.735500</td>\n",
       "      <td>-73.998339</td>\n",
       "      <td>1</td>\n",
       "      <td>0</td>\n",
       "      <td>0</td>\n",
       "      <td>1000</td>\n",
       "      <td>3</td>\n",
       "      <td>1</td>\n",
       "      <td>1</td>\n",
       "      <td>365</td>\n",
       "    </tr>\n",
       "    <tr>\n",
       "      <th>110</th>\n",
       "      <td>East Village</td>\n",
       "      <td>40.724707</td>\n",
       "      <td>-73.985224</td>\n",
       "      <td>1</td>\n",
       "      <td>0</td>\n",
       "      <td>0</td>\n",
       "      <td>1000</td>\n",
       "      <td>1</td>\n",
       "      <td>0</td>\n",
       "      <td>1</td>\n",
       "      <td>364</td>\n",
       "    </tr>\n",
       "  </tbody>\n",
       "</table>\n",
       "</div>"
      ],
      "text/plain": [
       "           neighbourhood   latitude  longitude  Entire home/apt  Private room  \\\n",
       "102       Hell's Kitchen  40.759301 -73.991435                1             0   \n",
       "106             Gramercy  40.736614 -73.987059                1             0   \n",
       "107  Morningside Heights  40.812335 -73.957163                1             0   \n",
       "109         West Village  40.735500 -73.998339                1             0   \n",
       "110         East Village  40.724707 -73.985224                1             0   \n",
       "\n",
       "     Shared room  price  minimum_nights  number_of_reviews  \\\n",
       "102            0   1000               1                  0   \n",
       "106            0   1000               7                  0   \n",
       "107            0   1000               1                  0   \n",
       "109            0   1000               3                  1   \n",
       "110            0   1000               1                  0   \n",
       "\n",
       "     calculated_host_listings_count  availability_365  \n",
       "102                               1               365  \n",
       "106                               1               365  \n",
       "107                               2               365  \n",
       "109                               1               365  \n",
       "110                               1               364  "
      ]
     },
     "execution_count": 24,
     "metadata": {},
     "output_type": "execute_result"
    }
   ],
   "source": [
    "#Filter data set with Manhattan neighbourhood group and geo location\n",
    "columns_to_model=['neighbourhood','latitude','longitude','Entire home/apt','Private room','Shared room','price','minimum_nights','number_of_reviews','calculated_host_listings_count','availability_365']\n",
    "listNYC_Manhattan_geo = listNYC[(listNYC.neighbourhood_group == 'Manhattan')]\n",
    "listNYC_Manhattan_geo = listNYC_Manhattan_geo[columns_to_model]\n",
    "listNYC_Manhattan_geo = listNYC_Manhattan_geo.copy(deep=True)\n",
    "listNYC_Manhattan_geo.head()"
   ]
  },
  {
   "cell_type": "code",
   "execution_count": 25,
   "metadata": {
    "collapsed": false
   },
   "outputs": [
    {
     "name": "stdout",
     "output_type": "stream",
     "text": [
      "<class 'pandas.core.frame.DataFrame'>\n",
      "Int64Index: 16510 entries, 102 to 32545\n",
      "Data columns (total 43 columns):\n",
      "neighbourhood                     16510 non-null object\n",
      "latitude                          16510 non-null float64\n",
      "longitude                         16510 non-null float64\n",
      "Entire home/apt                   16510 non-null int64\n",
      "Private room                      16510 non-null int64\n",
      "Shared room                       16510 non-null int64\n",
      "price                             16510 non-null int64\n",
      "minimum_nights                    16510 non-null int64\n",
      "number_of_reviews                 16510 non-null int64\n",
      "calculated_host_listings_count    16510 non-null int64\n",
      "availability_365                  16510 non-null int64\n",
      "Battery Park City                 16510 non-null int64\n",
      "Chelsea                           16510 non-null int64\n",
      "Chinatown                         16510 non-null int64\n",
      "Civic Center                      16510 non-null int64\n",
      "East Harlem                       16510 non-null int64\n",
      "East Village                      16510 non-null int64\n",
      "Financial District                16510 non-null int64\n",
      "Flatiron District                 16510 non-null int64\n",
      "Gramercy                          16510 non-null int64\n",
      "Greenwich Village                 16510 non-null int64\n",
      "Harlem                            16510 non-null int64\n",
      "Hell's Kitchen                    16510 non-null int64\n",
      "Inwood                            16510 non-null int64\n",
      "Kips Bay                          16510 non-null int64\n",
      "Little Italy                      16510 non-null int64\n",
      "Lower East Side                   16510 non-null int64\n",
      "Marble Hill                       16510 non-null int64\n",
      "Midtown                           16510 non-null int64\n",
      "Morningside Heights               16510 non-null int64\n",
      "Murray Hill                       16510 non-null int64\n",
      "NoHo                              16510 non-null int64\n",
      "Nolita                            16510 non-null int64\n",
      "Roosevelt Island                  16510 non-null int64\n",
      "SoHo                              16510 non-null int64\n",
      "Stuyvesant Town                   16510 non-null int64\n",
      "Theater District                  16510 non-null int64\n",
      "Tribeca                           16510 non-null int64\n",
      "Two Bridges                       16510 non-null int64\n",
      "Upper East Side                   16510 non-null int64\n",
      "Upper West Side                   16510 non-null int64\n",
      "Washington Heights                16510 non-null int64\n",
      "West Village                      16510 non-null int64\n",
      "dtypes: float64(2), int64(40), object(1)\n",
      "memory usage: 5.5+ MB\n"
     ]
    }
   ],
   "source": [
    "#convert neighbourhoods in Manhattan with geo data as binary variable using One-Hot encoding\n",
    "neighbourhood_enc = pd.get_dummies(listNYC_Manhattan_geo['neighbourhood'], prefix=None, prefix_sep='_', dummy_na=False, columns='neighbourhood', sparse=False, drop_first=False)\n",
    "neighbourhood_enc.head()\n",
    "\n",
    "neighbourhoods = list(dict(neighbourhood_enc.dtypes).keys())\n",
    "\n",
    "listNYC_Manhattan_geo = pd.concat([listNYC_Manhattan_geo, neighbourhood_enc], axis=1)\n",
    "\n",
    "#change data type for new neighbourhood types categories to integer\n",
    "listNYC_Manhattan_geo[neighbourhoods]=listNYC_Manhattan_geo[neighbourhoods].astype(np.int64)\n",
    "#del listNYC_Manhattan_geo['neighbourhood']\n",
    "listNYC_Manhattan_geo.info()"
   ]
  },
  {
   "cell_type": "code",
   "execution_count": 26,
   "metadata": {
    "collapsed": false
   },
   "outputs": [
    {
     "data": {
      "text/html": [
       "<div>\n",
       "<table border=\"1\" class=\"dataframe\">\n",
       "  <thead>\n",
       "    <tr style=\"text-align: right;\">\n",
       "      <th></th>\n",
       "      <th>neighbourhood</th>\n",
       "      <th>latitude</th>\n",
       "      <th>longitude</th>\n",
       "      <th>Entire home/apt</th>\n",
       "      <th>Private room</th>\n",
       "      <th>Shared room</th>\n",
       "      <th>price</th>\n",
       "      <th>minimum_nights</th>\n",
       "      <th>number_of_reviews</th>\n",
       "      <th>calculated_host_listings_count</th>\n",
       "      <th>...</th>\n",
       "      <th>Roosevelt Island</th>\n",
       "      <th>SoHo</th>\n",
       "      <th>Stuyvesant Town</th>\n",
       "      <th>Theater District</th>\n",
       "      <th>Tribeca</th>\n",
       "      <th>Two Bridges</th>\n",
       "      <th>Upper East Side</th>\n",
       "      <th>Upper West Side</th>\n",
       "      <th>Washington Heights</th>\n",
       "      <th>West Village</th>\n",
       "    </tr>\n",
       "  </thead>\n",
       "  <tbody>\n",
       "    <tr>\n",
       "      <th>102</th>\n",
       "      <td>Hell's Kitchen</td>\n",
       "      <td>40.759301</td>\n",
       "      <td>-73.991435</td>\n",
       "      <td>1</td>\n",
       "      <td>0</td>\n",
       "      <td>0</td>\n",
       "      <td>1000</td>\n",
       "      <td>1</td>\n",
       "      <td>0</td>\n",
       "      <td>1</td>\n",
       "      <td>...</td>\n",
       "      <td>0</td>\n",
       "      <td>0</td>\n",
       "      <td>0</td>\n",
       "      <td>0</td>\n",
       "      <td>0</td>\n",
       "      <td>0</td>\n",
       "      <td>0</td>\n",
       "      <td>0</td>\n",
       "      <td>0</td>\n",
       "      <td>0</td>\n",
       "    </tr>\n",
       "    <tr>\n",
       "      <th>106</th>\n",
       "      <td>Gramercy</td>\n",
       "      <td>40.736614</td>\n",
       "      <td>-73.987059</td>\n",
       "      <td>1</td>\n",
       "      <td>0</td>\n",
       "      <td>0</td>\n",
       "      <td>1000</td>\n",
       "      <td>7</td>\n",
       "      <td>0</td>\n",
       "      <td>1</td>\n",
       "      <td>...</td>\n",
       "      <td>0</td>\n",
       "      <td>0</td>\n",
       "      <td>0</td>\n",
       "      <td>0</td>\n",
       "      <td>0</td>\n",
       "      <td>0</td>\n",
       "      <td>0</td>\n",
       "      <td>0</td>\n",
       "      <td>0</td>\n",
       "      <td>0</td>\n",
       "    </tr>\n",
       "    <tr>\n",
       "      <th>107</th>\n",
       "      <td>Morningside Heights</td>\n",
       "      <td>40.812335</td>\n",
       "      <td>-73.957163</td>\n",
       "      <td>1</td>\n",
       "      <td>0</td>\n",
       "      <td>0</td>\n",
       "      <td>1000</td>\n",
       "      <td>1</td>\n",
       "      <td>0</td>\n",
       "      <td>2</td>\n",
       "      <td>...</td>\n",
       "      <td>0</td>\n",
       "      <td>0</td>\n",
       "      <td>0</td>\n",
       "      <td>0</td>\n",
       "      <td>0</td>\n",
       "      <td>0</td>\n",
       "      <td>0</td>\n",
       "      <td>0</td>\n",
       "      <td>0</td>\n",
       "      <td>0</td>\n",
       "    </tr>\n",
       "    <tr>\n",
       "      <th>109</th>\n",
       "      <td>West Village</td>\n",
       "      <td>40.735500</td>\n",
       "      <td>-73.998339</td>\n",
       "      <td>1</td>\n",
       "      <td>0</td>\n",
       "      <td>0</td>\n",
       "      <td>1000</td>\n",
       "      <td>3</td>\n",
       "      <td>1</td>\n",
       "      <td>1</td>\n",
       "      <td>...</td>\n",
       "      <td>0</td>\n",
       "      <td>0</td>\n",
       "      <td>0</td>\n",
       "      <td>0</td>\n",
       "      <td>0</td>\n",
       "      <td>0</td>\n",
       "      <td>0</td>\n",
       "      <td>0</td>\n",
       "      <td>0</td>\n",
       "      <td>1</td>\n",
       "    </tr>\n",
       "    <tr>\n",
       "      <th>110</th>\n",
       "      <td>East Village</td>\n",
       "      <td>40.724707</td>\n",
       "      <td>-73.985224</td>\n",
       "      <td>1</td>\n",
       "      <td>0</td>\n",
       "      <td>0</td>\n",
       "      <td>1000</td>\n",
       "      <td>1</td>\n",
       "      <td>0</td>\n",
       "      <td>1</td>\n",
       "      <td>...</td>\n",
       "      <td>0</td>\n",
       "      <td>0</td>\n",
       "      <td>0</td>\n",
       "      <td>0</td>\n",
       "      <td>0</td>\n",
       "      <td>0</td>\n",
       "      <td>0</td>\n",
       "      <td>0</td>\n",
       "      <td>0</td>\n",
       "      <td>0</td>\n",
       "    </tr>\n",
       "  </tbody>\n",
       "</table>\n",
       "<p>5 rows × 43 columns</p>\n",
       "</div>"
      ],
      "text/plain": [
       "           neighbourhood   latitude  longitude  Entire home/apt  Private room  \\\n",
       "102       Hell's Kitchen  40.759301 -73.991435                1             0   \n",
       "106             Gramercy  40.736614 -73.987059                1             0   \n",
       "107  Morningside Heights  40.812335 -73.957163                1             0   \n",
       "109         West Village  40.735500 -73.998339                1             0   \n",
       "110         East Village  40.724707 -73.985224                1             0   \n",
       "\n",
       "     Shared room  price  minimum_nights  number_of_reviews  \\\n",
       "102            0   1000               1                  0   \n",
       "106            0   1000               7                  0   \n",
       "107            0   1000               1                  0   \n",
       "109            0   1000               3                  1   \n",
       "110            0   1000               1                  0   \n",
       "\n",
       "     calculated_host_listings_count      ...       Roosevelt Island  SoHo  \\\n",
       "102                               1      ...                      0     0   \n",
       "106                               1      ...                      0     0   \n",
       "107                               2      ...                      0     0   \n",
       "109                               1      ...                      0     0   \n",
       "110                               1      ...                      0     0   \n",
       "\n",
       "     Stuyvesant Town  Theater District  Tribeca  Two Bridges  Upper East Side  \\\n",
       "102                0                 0        0            0                0   \n",
       "106                0                 0        0            0                0   \n",
       "107                0                 0        0            0                0   \n",
       "109                0                 0        0            0                0   \n",
       "110                0                 0        0            0                0   \n",
       "\n",
       "     Upper West Side  Washington Heights  West Village  \n",
       "102                0                   0             0  \n",
       "106                0                   0             0  \n",
       "107                0                   0             0  \n",
       "109                0                   0             1  \n",
       "110                0                   0             0  \n",
       "\n",
       "[5 rows x 43 columns]"
      ]
     },
     "execution_count": 26,
     "metadata": {},
     "output_type": "execute_result"
    }
   ],
   "source": [
    "#print some records to evaluate\n",
    "listNYC_Manhattan_geo.head()"
   ]
  },
  {
   "cell_type": "code",
   "execution_count": 27,
   "metadata": {
    "collapsed": false
   },
   "outputs": [
    {
     "name": "stdout",
     "output_type": "stream",
     "text": [
      "Some statistics about airbnb listing in Manhattan nieghbourhood group with geo data\n",
      "Price - Mean: 171.8373712901272 Standard deviation: 123.09962722487151\n",
      "Price - Median: 145.0\n",
      "Price - Min: 10 Max: 1000\n"
     ]
    }
   ],
   "source": [
    "#print some statistics\n",
    "listNYC_Manhattan_geo_mean = listNYC_Manhattan_geo.price.mean()\n",
    "listNYC_Manhattan_geo_median = listNYC_Manhattan_geo.price.median()\n",
    "listNYC_Manhattan_geo_std = listNYC_Manhattan_geo.price.std()\n",
    "listNYC_Manhattan_geo_min = listNYC_Manhattan_geo.price.min()\n",
    "listNYC_Manhattan_geo_max = listNYC_Manhattan_geo.price.max()\n",
    "\n",
    "print('Some statistics about airbnb listing in Manhattan nieghbourhood group with geo data')\n",
    "print('Price - Mean:',listNYC_Manhattan_geo_mean , 'Standard deviation:', listNYC_Manhattan_geo_std)\n",
    "print ('Price - Median:',listNYC_Manhattan_geo_median)\n",
    "print('Price - Min:',listNYC_Manhattan_geo_min , 'Max:', listNYC_Manhattan_geo_max )\n",
    "\n",
    "#normalize price data"
   ]
  },
  {
   "cell_type": "code",
   "execution_count": 28,
   "metadata": {
    "collapsed": false
   },
   "outputs": [
    {
     "name": "stdout",
     "output_type": "stream",
     "text": [
      "Some statistics about airbnb listing in Manhattan nieghbourhood group with geo data\n",
      "Price - Mean: 171.8373712901272 Standard deviation: 123.09962722487151\n",
      "Price - Median: 145.0\n",
      "Price - Min: 10 Max: 1000\n"
     ]
    }
   ],
   "source": [
    "#print some statistics\n",
    "listNYC_Manhattan_geo_mean = listNYC_Manhattan_geo.price.mean()\n",
    "listNYC_Manhattan_geo_median = listNYC_Manhattan_geo.price.median()\n",
    "listNYC_Manhattan_geo_std = listNYC_Manhattan_geo.price.std()\n",
    "listNYC_Manhattan_geo_min = listNYC_Manhattan_geo.price.min()\n",
    "listNYC_Manhattan_geo_max = listNYC_Manhattan_geo.price.max()\n",
    "\n",
    "print('Some statistics about airbnb listing in Manhattan nieghbourhood group with geo data')\n",
    "print('Price - Mean:',listNYC_Manhattan_geo_mean , 'Standard deviation:', listNYC_Manhattan_geo_std)\n",
    "print ('Price - Median:',listNYC_Manhattan_geo_median)\n",
    "print('Price - Min:',listNYC_Manhattan_geo_min , 'Max:', listNYC_Manhattan_geo_max )\n",
    "\n",
    "#normalize price data"
   ]
  },
  {
   "cell_type": "code",
   "execution_count": 29,
   "metadata": {
    "collapsed": false
   },
   "outputs": [
    {
     "data": {
      "text/html": [
       "<div>\n",
       "<table border=\"1\" class=\"dataframe\">\n",
       "  <thead>\n",
       "    <tr style=\"text-align: right;\">\n",
       "      <th></th>\n",
       "      <th>neighbourhood</th>\n",
       "      <th>latitude</th>\n",
       "      <th>longitude</th>\n",
       "      <th>Entire home/apt</th>\n",
       "      <th>Private room</th>\n",
       "      <th>Shared room</th>\n",
       "      <th>price</th>\n",
       "      <th>minimum_nights</th>\n",
       "      <th>number_of_reviews</th>\n",
       "      <th>calculated_host_listings_count</th>\n",
       "      <th>...</th>\n",
       "      <th>SoHo</th>\n",
       "      <th>Stuyvesant Town</th>\n",
       "      <th>Theater District</th>\n",
       "      <th>Tribeca</th>\n",
       "      <th>Two Bridges</th>\n",
       "      <th>Upper East Side</th>\n",
       "      <th>Upper West Side</th>\n",
       "      <th>Washington Heights</th>\n",
       "      <th>West Village</th>\n",
       "      <th>price_range</th>\n",
       "    </tr>\n",
       "  </thead>\n",
       "  <tbody>\n",
       "    <tr>\n",
       "      <th>102</th>\n",
       "      <td>Hell's Kitchen</td>\n",
       "      <td>40.759301</td>\n",
       "      <td>-73.991435</td>\n",
       "      <td>1</td>\n",
       "      <td>0</td>\n",
       "      <td>0</td>\n",
       "      <td>1000</td>\n",
       "      <td>1</td>\n",
       "      <td>0</td>\n",
       "      <td>1</td>\n",
       "      <td>...</td>\n",
       "      <td>0</td>\n",
       "      <td>0</td>\n",
       "      <td>0</td>\n",
       "      <td>0</td>\n",
       "      <td>0</td>\n",
       "      <td>0</td>\n",
       "      <td>0</td>\n",
       "      <td>0</td>\n",
       "      <td>0</td>\n",
       "      <td>950+</td>\n",
       "    </tr>\n",
       "    <tr>\n",
       "      <th>106</th>\n",
       "      <td>Gramercy</td>\n",
       "      <td>40.736614</td>\n",
       "      <td>-73.987059</td>\n",
       "      <td>1</td>\n",
       "      <td>0</td>\n",
       "      <td>0</td>\n",
       "      <td>1000</td>\n",
       "      <td>7</td>\n",
       "      <td>0</td>\n",
       "      <td>1</td>\n",
       "      <td>...</td>\n",
       "      <td>0</td>\n",
       "      <td>0</td>\n",
       "      <td>0</td>\n",
       "      <td>0</td>\n",
       "      <td>0</td>\n",
       "      <td>0</td>\n",
       "      <td>0</td>\n",
       "      <td>0</td>\n",
       "      <td>0</td>\n",
       "      <td>950+</td>\n",
       "    </tr>\n",
       "    <tr>\n",
       "      <th>107</th>\n",
       "      <td>Morningside Heights</td>\n",
       "      <td>40.812335</td>\n",
       "      <td>-73.957163</td>\n",
       "      <td>1</td>\n",
       "      <td>0</td>\n",
       "      <td>0</td>\n",
       "      <td>1000</td>\n",
       "      <td>1</td>\n",
       "      <td>0</td>\n",
       "      <td>2</td>\n",
       "      <td>...</td>\n",
       "      <td>0</td>\n",
       "      <td>0</td>\n",
       "      <td>0</td>\n",
       "      <td>0</td>\n",
       "      <td>0</td>\n",
       "      <td>0</td>\n",
       "      <td>0</td>\n",
       "      <td>0</td>\n",
       "      <td>0</td>\n",
       "      <td>950+</td>\n",
       "    </tr>\n",
       "    <tr>\n",
       "      <th>109</th>\n",
       "      <td>West Village</td>\n",
       "      <td>40.735500</td>\n",
       "      <td>-73.998339</td>\n",
       "      <td>1</td>\n",
       "      <td>0</td>\n",
       "      <td>0</td>\n",
       "      <td>1000</td>\n",
       "      <td>3</td>\n",
       "      <td>1</td>\n",
       "      <td>1</td>\n",
       "      <td>...</td>\n",
       "      <td>0</td>\n",
       "      <td>0</td>\n",
       "      <td>0</td>\n",
       "      <td>0</td>\n",
       "      <td>0</td>\n",
       "      <td>0</td>\n",
       "      <td>0</td>\n",
       "      <td>0</td>\n",
       "      <td>1</td>\n",
       "      <td>950+</td>\n",
       "    </tr>\n",
       "    <tr>\n",
       "      <th>110</th>\n",
       "      <td>East Village</td>\n",
       "      <td>40.724707</td>\n",
       "      <td>-73.985224</td>\n",
       "      <td>1</td>\n",
       "      <td>0</td>\n",
       "      <td>0</td>\n",
       "      <td>1000</td>\n",
       "      <td>1</td>\n",
       "      <td>0</td>\n",
       "      <td>1</td>\n",
       "      <td>...</td>\n",
       "      <td>0</td>\n",
       "      <td>0</td>\n",
       "      <td>0</td>\n",
       "      <td>0</td>\n",
       "      <td>0</td>\n",
       "      <td>0</td>\n",
       "      <td>0</td>\n",
       "      <td>0</td>\n",
       "      <td>0</td>\n",
       "      <td>950+</td>\n",
       "    </tr>\n",
       "  </tbody>\n",
       "</table>\n",
       "<p>5 rows × 44 columns</p>\n",
       "</div>"
      ],
      "text/plain": [
       "           neighbourhood   latitude  longitude  Entire home/apt  Private room  \\\n",
       "102       Hell's Kitchen  40.759301 -73.991435                1             0   \n",
       "106             Gramercy  40.736614 -73.987059                1             0   \n",
       "107  Morningside Heights  40.812335 -73.957163                1             0   \n",
       "109         West Village  40.735500 -73.998339                1             0   \n",
       "110         East Village  40.724707 -73.985224                1             0   \n",
       "\n",
       "     Shared room  price  minimum_nights  number_of_reviews  \\\n",
       "102            0   1000               1                  0   \n",
       "106            0   1000               7                  0   \n",
       "107            0   1000               1                  0   \n",
       "109            0   1000               3                  1   \n",
       "110            0   1000               1                  0   \n",
       "\n",
       "     calculated_host_listings_count     ...       SoHo  Stuyvesant Town  \\\n",
       "102                               1     ...          0                0   \n",
       "106                               1     ...          0                0   \n",
       "107                               2     ...          0                0   \n",
       "109                               1     ...          0                0   \n",
       "110                               1     ...          0                0   \n",
       "\n",
       "     Theater District  Tribeca  Two Bridges  Upper East Side  Upper West Side  \\\n",
       "102                 0        0            0                0                0   \n",
       "106                 0        0            0                0                0   \n",
       "107                 0        0            0                0                0   \n",
       "109                 0        0            0                0                0   \n",
       "110                 0        0            0                0                0   \n",
       "\n",
       "     Washington Heights  West Village  price_range  \n",
       "102                   0             0         950+  \n",
       "106                   0             0         950+  \n",
       "107                   0             0         950+  \n",
       "109                   0             1         950+  \n",
       "110                   0             0         950+  \n",
       "\n",
       "[5 rows x 44 columns]"
      ]
     },
     "execution_count": 29,
     "metadata": {},
     "output_type": "execute_result"
    }
   ],
   "source": [
    "#create price bins for $50 incremental\n",
    "bins =  [0,50,100,150,200,250,300,350,400,450,500,550,600,650,700,750,800,850,900,950,1000]\n",
    "bin_names = ['0-49','50-99','100-149','150-199','200-249','250-299','300-349','350-399','400-449','450-499','500-549','550-599','600-649','650-699','700-749','750-799','800-849','850-899','900-949','950+']\n",
    "price_range = pd.cut(listNYC_Manhattan_geo['price'], bins, labels=bin_names)\n",
    "listNYC_Manhattan_geo['price_range'] = pd.cut(listNYC_Manhattan_geo['price'], bins, labels=bin_names)\n",
    "listNYC_Manhattan_geo.head()"
   ]
  },
  {
   "cell_type": "code",
   "execution_count": 30,
   "metadata": {
    "collapsed": false
   },
   "outputs": [
    {
     "data": {
      "image/png": "[encoded data removed]",
      "text/plain": [
       "<matplotlib.figure.Figure at 0x1f74b668cc0>"
      ]
     },
     "metadata": {},
     "output_type": "display_data"
    }
   ],
   "source": [
    "#create histogram for price to check normality\n",
    "price_hist_plot = listNYC_Manhattan_geo['price'].hist(by=listNYC_Manhattan_geo['price_range'], figsize=(10,10))\n",
    "#price_hist_plot.set_title('Price per night chart in Manhattan geo location')\n",
    "#price_hist_plot.set_xlabel('Price ($)')\n",
    "#price_hist_plot.set_ylabel('Number of properties')"
   ]
  },
  {
   "cell_type": "code",
   "execution_count": 31,
   "metadata": {
    "collapsed": false
   },
   "outputs": [
    {
     "data": {
      "text/plain": [
       "<matplotlib.axes._subplots.AxesSubplot at 0x1f74ef53358>"
      ]
     },
     "execution_count": 31,
     "metadata": {},
     "output_type": "execute_result"
    },
    {
     "data": {
      "image/png": "[encoded data removed]",
      "text/plain": [
       "<matplotlib.figure.Figure at 0x1f74cd443c8>"
      ]
     },
     "metadata": {},
     "output_type": "display_data"
    }
   ],
   "source": [
    "#create box plot for price\n",
    "listNYC_Manhattan_geo.boxplot(column='price', by='price_range', ax=None, fontsize=None, rot=0, grid=False, figsize=(10,10), layout=None, return_type=None)\n",
    "#price_box_plot = listNYC_Manhattan_geo['price'].plot(kind='box')\n",
    "#price_box_plot.set_title('Price per night chart in Manhattan geo location')"
   ]
  },
  {
   "cell_type": "code",
   "execution_count": 32,
   "metadata": {
    "collapsed": false
   },
   "outputs": [
    {
     "name": "stdout",
     "output_type": "stream",
     "text": [
      "<class 'pandas.core.frame.DataFrame'>\n",
      "Int64Index: 16510 entries, 102 to 32545\n",
      "Data columns (total 64 columns):\n",
      "neighbourhood                     16510 non-null object\n",
      "latitude                          16510 non-null float64\n",
      "longitude                         16510 non-null float64\n",
      "Entire home/apt                   16510 non-null int64\n",
      "Private room                      16510 non-null int64\n",
      "Shared room                       16510 non-null int64\n",
      "price                             16510 non-null int64\n",
      "minimum_nights                    16510 non-null int64\n",
      "number_of_reviews                 16510 non-null int64\n",
      "calculated_host_listings_count    16510 non-null int64\n",
      "availability_365                  16510 non-null int64\n",
      "Battery Park City                 16510 non-null int64\n",
      "Chelsea                           16510 non-null int64\n",
      "Chinatown                         16510 non-null int64\n",
      "Civic Center                      16510 non-null int64\n",
      "East Harlem                       16510 non-null int64\n",
      "East Village                      16510 non-null int64\n",
      "Financial District                16510 non-null int64\n",
      "Flatiron District                 16510 non-null int64\n",
      "Gramercy                          16510 non-null int64\n",
      "Greenwich Village                 16510 non-null int64\n",
      "Harlem                            16510 non-null int64\n",
      "Hell's Kitchen                    16510 non-null int64\n",
      "Inwood                            16510 non-null int64\n",
      "Kips Bay                          16510 non-null int64\n",
      "Little Italy                      16510 non-null int64\n",
      "Lower East Side                   16510 non-null int64\n",
      "Marble Hill                       16510 non-null int64\n",
      "Midtown                           16510 non-null int64\n",
      "Morningside Heights               16510 non-null int64\n",
      "Murray Hill                       16510 non-null int64\n",
      "NoHo                              16510 non-null int64\n",
      "Nolita                            16510 non-null int64\n",
      "Roosevelt Island                  16510 non-null int64\n",
      "SoHo                              16510 non-null int64\n",
      "Stuyvesant Town                   16510 non-null int64\n",
      "Theater District                  16510 non-null int64\n",
      "Tribeca                           16510 non-null int64\n",
      "Two Bridges                       16510 non-null int64\n",
      "Upper East Side                   16510 non-null int64\n",
      "Upper West Side                   16510 non-null int64\n",
      "Washington Heights                16510 non-null int64\n",
      "West Village                      16510 non-null int64\n",
      "price_range                       16510 non-null category\n",
      "0-49                              16510 non-null int64\n",
      "50-99                             16510 non-null int64\n",
      "100-149                           16510 non-null int64\n",
      "150-199                           16510 non-null int64\n",
      "200-249                           16510 non-null int64\n",
      "250-299                           16510 non-null int64\n",
      "300-349                           16510 non-null int64\n",
      "350-399                           16510 non-null int64\n",
      "400-449                           16510 non-null int64\n",
      "450-499                           16510 non-null int64\n",
      "500-549                           16510 non-null int64\n",
      "550-599                           16510 non-null int64\n",
      "600-649                           16510 non-null int64\n",
      "650-699                           16510 non-null int64\n",
      "700-749                           16510 non-null int64\n",
      "750-799                           16510 non-null int64\n",
      "800-849                           16510 non-null int64\n",
      "850-899                           16510 non-null int64\n",
      "900-949                           16510 non-null int64\n",
      "950+                              16510 non-null int64\n",
      "dtypes: category(1), float64(2), int64(60), object(1)\n",
      "memory usage: 8.1+ MB\n"
     ]
    }
   ],
   "source": [
    "#convert neighbourhoods in Manhattan as binary variable using One-Hot encoding\n",
    "price_enc = pd.get_dummies(listNYC_Manhattan_geo['price_range'], prefix=None, prefix_sep='_', dummy_na=False, columns='price_range', sparse=False, drop_first=False)\n",
    "price_enc.head()\n",
    "\n",
    "price_bins = list(dict(price_enc.dtypes).keys())\n",
    "\n",
    "listNYC_Manhattan_geo = pd.concat([listNYC_Manhattan_geo, price_enc], axis=1)\n",
    "\n",
    "#change data type for new neighbourhood types categories to integer\n",
    "listNYC_Manhattan_geo[price_bins]=listNYC_Manhattan_geo[price_bins].astype(np.int64)\n",
    "#del listNYC_Manhattan['price_range']\n",
    "listNYC_Manhattan_geo.info()"
   ]
  },
  {
   "cell_type": "code",
   "execution_count": 33,
   "metadata": {
    "collapsed": false
   },
   "outputs": [
    {
     "data": {
      "text/html": [
       "<div>\n",
       "<table border=\"1\" class=\"dataframe\">\n",
       "  <thead>\n",
       "    <tr style=\"text-align: right;\">\n",
       "      <th></th>\n",
       "      <th>neighbourhood</th>\n",
       "      <th>latitude</th>\n",
       "      <th>longitude</th>\n",
       "      <th>Entire home/apt</th>\n",
       "      <th>Private room</th>\n",
       "      <th>Shared room</th>\n",
       "      <th>price</th>\n",
       "      <th>minimum_nights</th>\n",
       "      <th>number_of_reviews</th>\n",
       "      <th>calculated_host_listings_count</th>\n",
       "      <th>...</th>\n",
       "      <th>500-549</th>\n",
       "      <th>550-599</th>\n",
       "      <th>600-649</th>\n",
       "      <th>650-699</th>\n",
       "      <th>700-749</th>\n",
       "      <th>750-799</th>\n",
       "      <th>800-849</th>\n",
       "      <th>850-899</th>\n",
       "      <th>900-949</th>\n",
       "      <th>950+</th>\n",
       "    </tr>\n",
       "  </thead>\n",
       "  <tbody>\n",
       "    <tr>\n",
       "      <th>102</th>\n",
       "      <td>Hell's Kitchen</td>\n",
       "      <td>40.759301</td>\n",
       "      <td>-73.991435</td>\n",
       "      <td>1</td>\n",
       "      <td>0</td>\n",
       "      <td>0</td>\n",
       "      <td>1000</td>\n",
       "      <td>1</td>\n",
       "      <td>0</td>\n",
       "      <td>1</td>\n",
       "      <td>...</td>\n",
       "      <td>0</td>\n",
       "      <td>0</td>\n",
       "      <td>0</td>\n",
       "      <td>0</td>\n",
       "      <td>0</td>\n",
       "      <td>0</td>\n",
       "      <td>0</td>\n",
       "      <td>0</td>\n",
       "      <td>0</td>\n",
       "      <td>1</td>\n",
       "    </tr>\n",
       "    <tr>\n",
       "      <th>106</th>\n",
       "      <td>Gramercy</td>\n",
       "      <td>40.736614</td>\n",
       "      <td>-73.987059</td>\n",
       "      <td>1</td>\n",
       "      <td>0</td>\n",
       "      <td>0</td>\n",
       "      <td>1000</td>\n",
       "      <td>7</td>\n",
       "      <td>0</td>\n",
       "      <td>1</td>\n",
       "      <td>...</td>\n",
       "      <td>0</td>\n",
       "      <td>0</td>\n",
       "      <td>0</td>\n",
       "      <td>0</td>\n",
       "      <td>0</td>\n",
       "      <td>0</td>\n",
       "      <td>0</td>\n",
       "      <td>0</td>\n",
       "      <td>0</td>\n",
       "      <td>1</td>\n",
       "    </tr>\n",
       "    <tr>\n",
       "      <th>107</th>\n",
       "      <td>Morningside Heights</td>\n",
       "      <td>40.812335</td>\n",
       "      <td>-73.957163</td>\n",
       "      <td>1</td>\n",
       "      <td>0</td>\n",
       "      <td>0</td>\n",
       "      <td>1000</td>\n",
       "      <td>1</td>\n",
       "      <td>0</td>\n",
       "      <td>2</td>\n",
       "      <td>...</td>\n",
       "      <td>0</td>\n",
       "      <td>0</td>\n",
       "      <td>0</td>\n",
       "      <td>0</td>\n",
       "      <td>0</td>\n",
       "      <td>0</td>\n",
       "      <td>0</td>\n",
       "      <td>0</td>\n",
       "      <td>0</td>\n",
       "      <td>1</td>\n",
       "    </tr>\n",
       "    <tr>\n",
       "      <th>109</th>\n",
       "      <td>West Village</td>\n",
       "      <td>40.735500</td>\n",
       "      <td>-73.998339</td>\n",
       "      <td>1</td>\n",
       "      <td>0</td>\n",
       "      <td>0</td>\n",
       "      <td>1000</td>\n",
       "      <td>3</td>\n",
       "      <td>1</td>\n",
       "      <td>1</td>\n",
       "      <td>...</td>\n",
       "      <td>0</td>\n",
       "      <td>0</td>\n",
       "      <td>0</td>\n",
       "      <td>0</td>\n",
       "      <td>0</td>\n",
       "      <td>0</td>\n",
       "      <td>0</td>\n",
       "      <td>0</td>\n",
       "      <td>0</td>\n",
       "      <td>1</td>\n",
       "    </tr>\n",
       "    <tr>\n",
       "      <th>110</th>\n",
       "      <td>East Village</td>\n",
       "      <td>40.724707</td>\n",
       "      <td>-73.985224</td>\n",
       "      <td>1</td>\n",
       "      <td>0</td>\n",
       "      <td>0</td>\n",
       "      <td>1000</td>\n",
       "      <td>1</td>\n",
       "      <td>0</td>\n",
       "      <td>1</td>\n",
       "      <td>...</td>\n",
       "      <td>0</td>\n",
       "      <td>0</td>\n",
       "      <td>0</td>\n",
       "      <td>0</td>\n",
       "      <td>0</td>\n",
       "      <td>0</td>\n",
       "      <td>0</td>\n",
       "      <td>0</td>\n",
       "      <td>0</td>\n",
       "      <td>1</td>\n",
       "    </tr>\n",
       "  </tbody>\n",
       "</table>\n",
       "<p>5 rows × 64 columns</p>\n",
       "</div>"
      ],
      "text/plain": [
       "           neighbourhood   latitude  longitude  Entire home/apt  Private room  \\\n",
       "102       Hell's Kitchen  40.759301 -73.991435                1             0   \n",
       "106             Gramercy  40.736614 -73.987059                1             0   \n",
       "107  Morningside Heights  40.812335 -73.957163                1             0   \n",
       "109         West Village  40.735500 -73.998339                1             0   \n",
       "110         East Village  40.724707 -73.985224                1             0   \n",
       "\n",
       "     Shared room  price  minimum_nights  number_of_reviews  \\\n",
       "102            0   1000               1                  0   \n",
       "106            0   1000               7                  0   \n",
       "107            0   1000               1                  0   \n",
       "109            0   1000               3                  1   \n",
       "110            0   1000               1                  0   \n",
       "\n",
       "     calculated_host_listings_count  ...   500-549  550-599  600-649  650-699  \\\n",
       "102                               1  ...         0        0        0        0   \n",
       "106                               1  ...         0        0        0        0   \n",
       "107                               2  ...         0        0        0        0   \n",
       "109                               1  ...         0        0        0        0   \n",
       "110                               1  ...         0        0        0        0   \n",
       "\n",
       "     700-749  750-799  800-849  850-899  900-949  950+  \n",
       "102        0        0        0        0        0     1  \n",
       "106        0        0        0        0        0     1  \n",
       "107        0        0        0        0        0     1  \n",
       "109        0        0        0        0        0     1  \n",
       "110        0        0        0        0        0     1  \n",
       "\n",
       "[5 rows x 64 columns]"
      ]
     },
     "execution_count": 33,
     "metadata": {},
     "output_type": "execute_result"
    }
   ],
   "source": [
    "#print some records to evaluate\n",
    "listNYC_Manhattan_geo.head()"
   ]
  },
  {
   "cell_type": "markdown",
   "metadata": {},
   "source": [
    "## 2. Modeling and Evaluation"
   ]
  },
  {
   "cell_type": "markdown",
   "metadata": {},
   "source": [
    "### 2a. Choose and explain the evalution metrics chosen"
   ]
  },
  {
   "cell_type": "markdown",
   "metadata": {},
   "source": [
    "For this analysis and the models selected, the primary evaluation metric we will be focusing on is Accuracy. Due to the variables we have chosen to predict (Neighborhood and Price Range), the accuracy metric provides us with the most easily interpreted metric to gauge the success (or failure) of the models used. Accuracy will be able to essentially tell us the percentage of correctly guessed classifications over the total number of possible classifications in both cases. \n",
    "\n",
    "Because of the number of classes we are trying to predict for each predictive attribute, we can easily tell at the surface level how often are model is accurately predicting either the price level or the neighbourhood. If we wish to continue to improve the results of our models, we can also include binary confusion matrices to se where the errors are occuring and to further analyze which listings were causing the errors, make detailed notes about those listings, and possibly take those inferences into consideration when attempting to modify the model."
   ]
  },
  {
   "cell_type": "markdown",
   "metadata": {},
   "source": [
    "### 2b. Choose the method(s) used to divide data into training and testing splits"
   ]
  },
  {
   "cell_type": "markdown",
   "metadata": {},
   "source": [
    "For this assignment, we will be using a cross-validation technique in order to train and test our data with. More specifically, we will be using the \"Stratified Shuffle Split\" function via Scikit Learn to perform this task. This process was used in our previous assignment and realized it worked relatively well for the type of dataset we are using. We intend to run a minimum of five iterations of the test (per model) using 80% of the data each time for training the model and the remaining 20% to be used to test the trained data on. "
   ]
  },
  {
   "cell_type": "markdown",
   "metadata": {},
   "source": [
    "### 2c. Create three different classification models for each task"
   ]
  },
  {
   "cell_type": "markdown",
   "metadata": {},
   "source": [
    "#### Setting attributes list in order to use in models"
   ]
  },
  {
   "cell_type": "code",
   "execution_count": 34,
   "metadata": {
    "collapsed": true
   },
   "outputs": [],
   "source": [
    "#get all column names to include in model as response and explanatory attributes\n",
    "attributes_price_range = list(listNYC_Manhattan.price_range.unique())\n",
    "attributes_neighbourhoods = list(listNYC_Manhattan.neighbourhood.unique())\n",
    "attributes_room_type = room_types\n",
    "attributes_geo = ['latitude','longitude']\n",
    "#print('price range attributes:', attributes_price_range)\n",
    "#print('neighbourhood attributes:', attributes_neighbourhoods)\n",
    "#print('room type attributes:', attributes_room_type)\n",
    "actual_attributes = ['minimum_nights'\n",
    "                 ,'number_of_reviews','calculated_host_listings_count'\n",
    "                 ,'availability_365']"
   ]
  },
  {
   "cell_type": "markdown",
   "metadata": {},
   "source": [
    "### FIRST PREDICTION: Price Range of AirBnB Listing"
   ]
  },
  {
   "cell_type": "markdown",
   "metadata": {},
   "source": [
    "#### Setting up training and test data for Price prediction"
   ]
  },
  {
   "cell_type": "code",
   "execution_count": 35,
   "metadata": {
    "collapsed": false
   },
   "outputs": [
    {
     "name": "stdout",
     "output_type": "stream",
     "text": [
      "cv: StratifiedShuffleSplit(labels=[[1 0 0 ..., 0 0 0]\n",
      " [1 0 0 ..., 0 0 0]\n",
      " [1 0 0 ..., 0 0 0]\n",
      " ..., \n",
      " [0 0 0 ..., 0 0 1]\n",
      " [0 0 0 ..., 0 0 1]\n",
      " [0 0 0 ..., 0 0 1]], n_iter=5, test_size=0.2, random_state=None)\n"
     ]
    }
   ],
   "source": [
    "# create train and test sets for listNYC_Manhattan to predict price range\n",
    "exp_attributes_pr = attributes_neighbourhoods + attributes_room_type + actual_attributes\n",
    "\n",
    "listNYC_Manhattan.target_pr = listNYC_Manhattan[attributes_price_range].values\n",
    "listNYC_Manhattan.data_pr = listNYC_Manhattan[exp_attributes_pr].values\n",
    "listNYC_Manhattan_pr_cv = StratifiedShuffleSplit(listNYC_Manhattan.target_pr\n",
    "                                              , n_iter = 5\n",
    "                                              , test_size = 0.2\n",
    "                                              , train_size=0.8)\n",
    "print('cv:',listNYC_Manhattan_pr_cv)\n",
    "\n",
    "for trainidx, testidx in listNYC_Manhattan_pr_cv:\n",
    "    # note that these are sparse matrices\n",
    "    X_pr_train = listNYC_Manhattan.data_pr[trainidx] \n",
    "    X_pr_test = listNYC_Manhattan.data_pr[testidx] \n",
    "    y_pr_train = listNYC_Manhattan.target_pr[trainidx]\n",
    "    y_pr_test = listNYC_Manhattan.target_pr[testidx]\n",
    "\n",
    "X_pr = listNYC_Manhattan.data_pr\n",
    "y_pr = listNYC_Manhattan.target_pr\n",
    "yhat_pr = np.zeros(y_pr.shape)\n"
   ]
  },
  {
   "cell_type": "markdown",
   "metadata": {},
   "source": [
    "#### Price range prediction using KNN"
   ]
  },
  {
   "cell_type": "code",
   "execution_count": 36,
   "metadata": {
    "collapsed": false
   },
   "outputs": [
    {
     "name": "stdout",
     "output_type": "stream",
     "text": [
      "accuracy: 0.882556026651\n",
      "Accuracy of classifier to predict price range with 5 neighbors with K=5 is: 0.88\n"
     ]
    }
   ],
   "source": [
    "# calculate accuracy for price range prediction using KNN\n",
    "K = 5 \n",
    "clf_pr = KNeighborsClassifier(n_neighbors=K, weights='uniform', metric='euclidean')\n",
    "\n",
    "for train, test in listNYC_Manhattan_pr_cv:\n",
    "    clf_pr.fit(X_pr[train],y_pr[train])\n",
    "    yhat_pr[test] = clf_pr.predict(X_pr[test])\n",
    "        \n",
    "acc_clf_pr = mt.accuracy_score(y_pr, yhat_pr)\n",
    "\n",
    "print ('accuracy:',acc_clf_pr)\n",
    "print('Accuracy of classifier to predict price range with %d neighbors with K=5 is: %.2f'%(K,acc_clf_pr))"
   ]
  },
  {
   "cell_type": "code",
   "execution_count": 70,
   "metadata": {
    "collapsed": false
   },
   "outputs": [
    {
     "data": {
      "text/plain": [
       "<matplotlib.image.AxesImage at 0x1f749c74ac8>"
      ]
     },
     "execution_count": 70,
     "metadata": {},
     "output_type": "execute_result"
    },
    {
     "data": {
      "image/png": "[encoded data removed]",
      "text/plain": [
       "<matplotlib.figure.Figure at 0x1f7486cad68>"
      ]
     },
     "metadata": {},
     "output_type": "display_data"
    }
   ],
   "source": [
    "#Confusion metrics representation for price range 50-99\n",
    "cm = mt.confusion_matrix(y_pr[1], yhat_pr[1])\n",
    "cm\n",
    "plt.imshow(cm,cmap=plt.get_cmap('Reds'),aspect='auto')"
   ]
  },
  {
   "cell_type": "code",
   "execution_count": 69,
   "metadata": {
    "collapsed": false
   },
   "outputs": [
    {
     "data": {
      "text/plain": [
       "<matplotlib.image.AxesImage at 0x1f749cf2668>"
      ]
     },
     "execution_count": 69,
     "metadata": {},
     "output_type": "execute_result"
    },
    {
     "data": {
      "image/png": "[encoded data removed]",
      "text/plain": [
       "<matplotlib.figure.Figure at 0x1f74b8b74a8>"
      ]
     },
     "metadata": {},
     "output_type": "display_data"
    }
   ],
   "source": [
    "#Confusion metrics representation for price range 100-149\n",
    "cm = mt.confusion_matrix(y_pr[2], yhat_pr[2])\n",
    "cm\n",
    "plt.imshow(cm,cmap=plt.get_cmap('Reds'),aspect='auto')"
   ]
  },
  {
   "cell_type": "code",
   "execution_count": 66,
   "metadata": {
    "collapsed": false
   },
   "outputs": [],
   "source": [
    "#calculate K Nearest Neighbours graph"
   ]
  },
  {
   "cell_type": "markdown",
   "metadata": {},
   "source": [
    "#### Price range prediction using Random Forest"
   ]
  },
  {
   "cell_type": "code",
   "execution_count": 38,
   "metadata": {
    "collapsed": false
   },
   "outputs": [
    {
     "name": "stdout",
     "output_type": "stream",
     "text": [
      "accuracy for price range prediction with RandomForest:  0.8841308298\n"
     ]
    }
   ],
   "source": [
    "# calculate accuracy for price range prediction using Random Forest\n",
    "forest_pr = RandomForestClassifier(n_estimators = 10)\n",
    "\n",
    "for train, test in listNYC_Manhattan_pr_cv:\n",
    "    forest_pr.fit(X_pr[train],y_pr[train])\n",
    "    yhat_pr[test] = forest_pr.predict(X_pr[test])\n",
    "    \n",
    "acc_forest_pr= mt.accuracy_score(y_pr, yhat_pr)\n",
    "print('accuracy for price range prediction with RandomForest: ', acc_forest_pr)"
   ]
  },
  {
   "cell_type": "code",
   "execution_count": 39,
   "metadata": {
    "collapsed": false
   },
   "outputs": [
    {
     "name": "stdout",
     "output_type": "stream",
     "text": [
      "Hell's Kitchen has feature importance of 0.00786967328657\n",
      "Gramercy has feature importance of 0.00389851833399\n",
      "Morningside Heights has feature importance of 0.00365580398237\n",
      "West Village has feature importance of 0.00510047721102\n",
      "East Village has feature importance of 0.00562520469098\n",
      "Midtown has feature importance of 0.00542654168687\n",
      "SoHo has feature importance of 0.00376075021538\n",
      "Chelsea has feature importance of 0.00475478645572\n",
      "Flatiron District has feature importance of 0.00247161448566\n",
      "Harlem has feature importance of 0.0122594976067\n",
      "Tribeca has feature importance of 0.00296292651647\n",
      "Upper West Side has feature importance of 0.00751702016937\n",
      "Upper East Side has feature importance of 0.00570293320227\n",
      "Financial District has feature importance of 0.00396097827511\n",
      "Greenwich Village has feature importance of 0.00354393590463\n",
      "Kips Bay has feature importance of 0.00432773904931\n",
      "Theater District has feature importance of 0.00271952631594\n",
      "Nolita has feature importance of 0.00405368881235\n",
      "NoHo has feature importance of 0.00186596072287\n",
      "Lower East Side has feature importance of 0.00551869216816\n",
      "Little Italy has feature importance of 0.00189859810536\n",
      "Chinatown has feature importance of 0.0036033923091\n",
      "Murray Hill has feature importance of 0.003427460986\n",
      "Washington Heights has feature importance of 0.00944479045887\n",
      "East Harlem has feature importance of 0.00663799874536\n",
      "Stuyvesant Town has feature importance of 0.00177919514969\n",
      "Battery Park City has feature importance of 0.00167108352663\n",
      "Inwood has feature importance of 0.00496992496371\n",
      "Civic Center has feature importance of 0.00133728440683\n",
      "Two Bridges has feature importance of 0.00090112668847\n",
      "Roosevelt Island has feature importance of 0.00112612606837\n",
      "Marble Hill has feature importance of 0.000844990908885\n",
      "Entire home/apt has feature importance of 0.0724036368781\n",
      "Shared room has feature importance of 0.00519936463456\n",
      "Private room has feature importance of 0.0381726045664\n",
      "minimum_nights has feature importance of 0.120748755034\n",
      "number_of_reviews has feature importance of 0.244848582725\n",
      "calculated_host_listings_count has feature importance of 0.0483654733873\n",
      "availability_365 has feature importance of 0.335623341366\n"
     ]
    }
   ],
   "source": [
    "#calculate feature importance for price predictions from Random Forest\n",
    "feature_imp_pr = forest_pr.feature_importances_\n",
    "attribute_names = listNYC_Manhattan[exp_attributes_pr].columns\n",
    "for feature_imp, name in zip(feature_imp_pr,attribute_names):\n",
    "    print(name, 'has feature importance of', feature_imp)"
   ]
  },
  {
   "cell_type": "code",
   "execution_count": 40,
   "metadata": {
    "collapsed": false
   },
   "outputs": [
    {
     "data": {
      "image/png": "[encoded data removed]",
      "text/plain": [
       "<matplotlib.figure.Figure at 0x1f74c6b1588>"
      ]
     },
     "metadata": {},
     "output_type": "display_data"
    }
   ],
   "source": [
    "#show graph for feature importance for Random Forest \n",
    "plt.barh(range(len(feature_imp_pr)), feature_imp_pr)\n",
    "plt.title(\"Feature importance for Random Forest\")\n",
    "plt.show()"
   ]
  },
  {
   "cell_type": "markdown",
   "metadata": {},
   "source": [
    "#### Price range prediction using Decision Trees"
   ]
  },
  {
   "cell_type": "code",
   "execution_count": 41,
   "metadata": {
    "collapsed": false
   },
   "outputs": [
    {
     "name": "stdout",
     "output_type": "stream",
     "text": [
      "accuracy for price range prediction with Decision Tree:  0.264142943671\n"
     ]
    }
   ],
   "source": [
    "# calculate accuracy for price range prediction using Decision Trees:\n",
    "dt_pr = DecisionTreeClassifier(criterion='entropy', max_depth=10, \n",
    "                                min_samples_split=500, min_samples_leaf=1, \n",
    "                                max_leaf_nodes=None)\n",
    "\n",
    "for train, test in listNYC_Manhattan_pr_cv:\n",
    "    dt_pr.fit(X_pr[train],y_pr[train])\n",
    "    yhat_pr[test] = dt_pr.predict(X_pr[test])\n",
    "    \n",
    "acc_dt_pr= mt.accuracy_score(y_pr, yhat_pr)\n",
    "print('accuracy for price range prediction with Decision Tree: ', acc_dt_pr)"
   ]
  },
  {
   "cell_type": "code",
   "execution_count": 42,
   "metadata": {
    "collapsed": false
   },
   "outputs": [
    {
     "name": "stdout",
     "output_type": "stream",
     "text": [
      "Hell's Kitchen has feature importance of 0.0\n",
      "Gramercy has feature importance of 0.000450251493165\n",
      "Morningside Heights has feature importance of 0.0136591619045\n",
      "West Village has feature importance of 0.00111271363398\n",
      "East Village has feature importance of 0.00403650846613\n",
      "Midtown has feature importance of 0.00289043385387\n",
      "SoHo has feature importance of 0.000573140663981\n",
      "Chelsea has feature importance of 0.0\n",
      "Flatiron District has feature importance of 0.0\n",
      "Harlem has feature importance of 0.0490369060561\n",
      "Tribeca has feature importance of 0.00143057741177\n",
      "Upper West Side has feature importance of 0.00318779332405\n",
      "Upper East Side has feature importance of 0.0113073485306\n",
      "Financial District has feature importance of 0.000891447426044\n",
      "Greenwich Village has feature importance of 0.0\n",
      "Kips Bay has feature importance of 0.000778057878326\n",
      "Theater District has feature importance of 0.0\n",
      "Nolita has feature importance of 0.0\n",
      "NoHo has feature importance of 0.0\n",
      "Lower East Side has feature importance of 0.0\n",
      "Little Italy has feature importance of 0.0\n",
      "Chinatown has feature importance of 0.0\n",
      "Murray Hill has feature importance of 0.00135824691139\n",
      "Washington Heights has feature importance of 0.0430595882445\n",
      "East Harlem has feature importance of 0.0337458990338\n",
      "Stuyvesant Town has feature importance of 0.0\n",
      "Battery Park City has feature importance of 0.0\n",
      "Inwood has feature importance of 0.0203865659466\n",
      "Civic Center has feature importance of 0.0\n",
      "Two Bridges has feature importance of 0.0\n",
      "Roosevelt Island has feature importance of 0.0\n",
      "Marble Hill has feature importance of 0.0\n",
      "Entire home/apt has feature importance of 0.522899506236\n",
      "Shared room has feature importance of 0.0207474777794\n",
      "Private room has feature importance of 0.0\n",
      "minimum_nights has feature importance of 0.0422494456205\n",
      "number_of_reviews has feature importance of 0.0621783839978\n",
      "calculated_host_listings_count has feature importance of 0.0506328750437\n",
      "availability_365 has feature importance of 0.113387670544\n"
     ]
    }
   ],
   "source": [
    "#calculate feature importance for price predictions from Random Forest\n",
    "feature_imp_pr_dt = dt_pr.feature_importances_\n",
    "attribute_names = listNYC_Manhattan[exp_attributes_pr].columns\n",
    "for feature_imp, name in zip(feature_imp_pr_dt,attribute_names):\n",
    "    print(name, 'has feature importance of', feature_imp)"
   ]
  },
  {
   "cell_type": "code",
   "execution_count": 43,
   "metadata": {
    "collapsed": false
   },
   "outputs": [
    {
     "data": {
      "image/png": "[encoded data removed]",
      "text/plain": [
       "<matplotlib.figure.Figure at 0x1f74b632160>"
      ]
     },
     "metadata": {},
     "output_type": "display_data"
    }
   ],
   "source": [
    "#show graph for feature importance for Decision Tree Classifier \n",
    "plt.barh(range(len(feature_imp_pr_dt)), feature_imp_pr_dt)\n",
    "plt.title(\"Feature importance for Decision Tree Classifier\")\n",
    "plt.show()"
   ]
  },
  {
   "cell_type": "markdown",
   "metadata": {},
   "source": [
    "### SECOND PREDICTION: Manhattan \"Neighbourhood\" of AirBnB Listing"
   ]
  },
  {
   "cell_type": "markdown",
   "metadata": {},
   "source": [
    "#### Setting up training and test data for neighbourhood prediction"
   ]
  },
  {
   "cell_type": "code",
   "execution_count": 44,
   "metadata": {
    "collapsed": false
   },
   "outputs": [
    {
     "name": "stdout",
     "output_type": "stream",
     "text": [
      "cv: StratifiedShuffleSplit(labels=[[1 0 0 ..., 0 0 0]\n",
      " [0 1 0 ..., 0 0 0]\n",
      " [0 0 1 ..., 0 0 0]\n",
      " ..., \n",
      " [0 0 0 ..., 0 0 0]\n",
      " [0 0 0 ..., 0 0 0]\n",
      " [0 0 0 ..., 0 0 0]], n_iter=5, test_size=0.2, random_state=None)\n"
     ]
    }
   ],
   "source": [
    "# create train and test sets for listNYC_Manhattan to predict neighbourhood\n",
    "exp_attributes_ng = attributes_price_range + attributes_room_type + actual_attributes\n",
    "\n",
    "listNYC_Manhattan.target_ng = listNYC_Manhattan[attributes_neighbourhoods].values\n",
    "listNYC_Manhattan.data_ng = listNYC_Manhattan[exp_attributes_ng].values\n",
    "listNYC_Manhattan_ng_cv = StratifiedShuffleSplit(listNYC_Manhattan.target_ng\n",
    "                                              , n_iter = 5\n",
    "                                              , test_size = 0.2\n",
    "                                              , train_size=0.8)\n",
    "\n",
    "print('cv:',listNYC_Manhattan_ng_cv)\n",
    "\n",
    "for trainidx, testidx in listNYC_Manhattan_ng_cv:\n",
    "    X_ng_train = listNYC_Manhattan.data_ng[trainidx] \n",
    "    X_ng_test = listNYC_Manhattan.data_ng[testidx] \n",
    "    y_ng_train = listNYC_Manhattan.target_ng[trainidx]\n",
    "    y_ng_test = listNYC_Manhattan.target_ng[testidx]\n",
    "\n",
    "X_ng = listNYC_Manhattan.data_ng\n",
    "y_ng = listNYC_Manhattan.target_ng\n",
    "yhat_ng = np.zeros(y_ng.shape)"
   ]
  },
  {
   "cell_type": "markdown",
   "metadata": {},
   "source": [
    "#### Neighbourhood prediction using KNN"
   ]
  },
  {
   "cell_type": "code",
   "execution_count": 45,
   "metadata": {
    "collapsed": false
   },
   "outputs": [
    {
     "name": "stdout",
     "output_type": "stream",
     "text": [
      "accuracy: 0.786856450636\n",
      "Accuracy of classifier to predict neighbourhood with 5 neighbors with K=5 is: 0.79\n"
     ]
    }
   ],
   "source": [
    "# calculate accuracy for neighbourhood prediction using KNN\n",
    "K = 5 \n",
    "clf_ng = KNeighborsClassifier(n_neighbors=K, weights='uniform', metric='euclidean')\n",
    "\n",
    "for train, test in listNYC_Manhattan_ng_cv:\n",
    "    clf_ng.fit(X_ng[train],y_ng[train])\n",
    "    yhat_ng[test] = clf_ng.predict(X_ng[test])\n",
    "    \n",
    "acc_clf_ng = mt.accuracy_score(y_ng, yhat_ng)\n",
    "\n",
    "print ('accuracy:',acc_clf_ng)\n",
    "print('Accuracy of classifier to predict neighbourhood with %d neighbors with K=5 is: %.2f'%(K,acc_clf_ng))"
   ]
  },
  {
   "cell_type": "code",
   "execution_count": 46,
   "metadata": {
    "collapsed": false
   },
   "outputs": [],
   "source": [
    "#calculate weights for neighbourhood predictions from K Neighbourhood Classifier"
   ]
  },
  {
   "cell_type": "markdown",
   "metadata": {},
   "source": [
    "#### Neighbourhood prediction using Random Forest"
   ]
  },
  {
   "cell_type": "code",
   "execution_count": 47,
   "metadata": {
    "collapsed": false
   },
   "outputs": [
    {
     "name": "stdout",
     "output_type": "stream",
     "text": [
      "accuracy for neighbourhood prediction with RandomForest:  0.775953967293\n"
     ]
    }
   ],
   "source": [
    "# calculate accuracy for neighbourhood prediction using Random Forest\n",
    "forest_ng = RandomForestClassifier(n_estimators = 10)\n",
    "\n",
    "for train, test in listNYC_Manhattan_ng_cv:\n",
    "    forest_ng.fit(X_ng[train],y_ng[train])\n",
    "    yhat_ng[test] = forest_ng.predict(X_ng[test])\n",
    "    \n",
    "acc_ng= mt.accuracy_score(y_ng, yhat_ng)\n",
    "print('accuracy for neighbourhood prediction with RandomForest: ', acc_ng)"
   ]
  },
  {
   "cell_type": "code",
   "execution_count": 48,
   "metadata": {
    "collapsed": false
   },
   "outputs": [
    {
     "name": "stdout",
     "output_type": "stream",
     "text": [
      "950+ has feature importance of 0.000702527859848\n",
      "900-949 has feature importance of 0.000322922925937\n",
      "850-899 has feature importance of 0.000542611019414\n",
      "800-849 has feature importance of 0.000507926280376\n",
      "750-799 has feature importance of 0.000743320282023\n",
      "700-749 has feature importance of 0.000748788135728\n",
      "650-699 has feature importance of 0.00113234561187\n",
      "600-649 has feature importance of 0.00109764759876\n",
      "550-599 has feature importance of 0.00145428608038\n",
      "500-549 has feature importance of 0.00140115668075\n",
      "450-499 has feature importance of 0.0014992242366\n",
      "400-449 has feature importance of 0.00188411377802\n",
      "350-399 has feature importance of 0.00195493660193\n",
      "300-349 has feature importance of 0.00210396224412\n",
      "250-299 has feature importance of 0.00243053426127\n",
      "200-249 has feature importance of 0.00306363179686\n",
      "150-199 has feature importance of 0.00284193494514\n",
      "100-149 has feature importance of 0.00401222339732\n",
      "50-99 has feature importance of 0.00651592277957\n",
      "0-49 has feature importance of 0.00530157191526\n",
      "Entire home/apt has feature importance of 0.00301232283228\n",
      "Shared room has feature importance of 0.00134717626223\n",
      "Private room has feature importance of 0.00258906589142\n",
      "minimum_nights has feature importance of 0.127377115203\n",
      "number_of_reviews has feature importance of 0.304651624776\n",
      "calculated_host_listings_count has feature importance of 0.0605800563865\n",
      "availability_365 has feature importance of 0.460181050217\n"
     ]
    }
   ],
   "source": [
    "#calculate feature importance for neighbourhood predictions from Random Forest\n",
    "feature_imp_ng = forest_ng.feature_importances_ \n",
    "attribute_names = listNYC_Manhattan[exp_attributes_ng].columns\n",
    "for feature_imp, name in zip(feature_imp_ng, attribute_names):\n",
    "    print(name, 'has feature importance of', feature_imp)"
   ]
  },
  {
   "cell_type": "code",
   "execution_count": 49,
   "metadata": {
    "collapsed": false
   },
   "outputs": [
    {
     "data": {
      "image/png": "[encoded data removed]",
      "text/plain": [
       "<matplotlib.figure.Figure at 0x1f748ac74a8>"
      ]
     },
     "metadata": {},
     "output_type": "display_data"
    }
   ],
   "source": [
    "#show graph for feature importance for Random Forest \n",
    "plt.barh(range(len(feature_imp_ng)), feature_imp_ng)\n",
    "plt.title(\"Feature importance for Random Forest\")\n",
    "plt.show()"
   ]
  },
  {
   "cell_type": "markdown",
   "metadata": {},
   "source": [
    "#### Neighbourhood prediction using Decision Tree"
   ]
  },
  {
   "cell_type": "code",
   "execution_count": 52,
   "metadata": {
    "collapsed": false
   },
   "outputs": [
    {
     "name": "stdout",
     "output_type": "stream",
     "text": [
      "accuracy for price range prediction with Decision Tree:  0.772864930345\n"
     ]
    }
   ],
   "source": [
    "# calculate accuracy for neighbourhood prediction using Decision Trees:\n",
    "dt_ng = DecisionTreeClassifier(criterion='gini', max_depth=None, \n",
    "                                min_samples_split=2, min_samples_leaf=1, \n",
    "                                max_features=None, \n",
    "                                max_leaf_nodes=None)\n",
    "\n",
    "for train, test in listNYC_Manhattan_ng_cv:\n",
    "    dt_ng.fit(X_ng[train],y_ng[train])\n",
    "    yhat_ng[test] = dt_ng.predict(X_ng[test])\n",
    "    \n",
    "acc_dt_ng= mt.accuracy_score(y_ng, yhat_ng)\n",
    "print('accuracy for price range prediction with Decision Tree: ', acc_dt_ng)"
   ]
  },
  {
   "cell_type": "code",
   "execution_count": 53,
   "metadata": {
    "collapsed": false
   },
   "outputs": [
    {
     "name": "stdout",
     "output_type": "stream",
     "text": [
      "950+ has feature importance of 0.000860346929314\n",
      "900-949 has feature importance of 0.000312866806779\n",
      "850-899 has feature importance of 0.000491856327193\n",
      "800-849 has feature importance of 0.000884635504602\n",
      "750-799 has feature importance of 0.00130011941875\n",
      "700-749 has feature importance of 0.00111772285151\n",
      "650-699 has feature importance of 0.00162323983429\n",
      "600-649 has feature importance of 0.00123478703831\n",
      "550-599 has feature importance of 0.00183129671591\n",
      "500-549 has feature importance of 0.00158439698826\n",
      "450-499 has feature importance of 0.0036050696575\n",
      "400-449 has feature importance of 0.00375562089982\n",
      "350-399 has feature importance of 0.00516773996446\n",
      "300-349 has feature importance of 0.00722027944338\n",
      "250-299 has feature importance of 0.00898124945038\n",
      "200-249 has feature importance of 0.00938043678661\n",
      "150-199 has feature importance of 0.00358903344903\n",
      "100-149 has feature importance of 0.00251076685095\n",
      "50-99 has feature importance of 0.00781731062973\n",
      "0-49 has feature importance of 0.00694967555169\n",
      "Entire home/apt has feature importance of 0.0102337217521\n",
      "Shared room has feature importance of 0.00661168851159\n",
      "Private room has feature importance of 0.0117305248289\n",
      "minimum_nights has feature importance of 0.154461454614\n",
      "number_of_reviews has feature importance of 0.284969028555\n",
      "calculated_host_listings_count has feature importance of 0.0498592826695\n",
      "availability_365 has feature importance of 0.411915847971\n"
     ]
    }
   ],
   "source": [
    "#calculate feature importance for price predictions from Random Forest\n",
    "feature_imp_ng_dt = dt_ng.feature_importances_\n",
    "attribute_names = listNYC_Manhattan[exp_attributes_ng].columns\n",
    "for feature_imp, name in zip(feature_imp_ng_dt,attribute_names):\n",
    "    print(name, 'has feature importance of', feature_imp)"
   ]
  },
  {
   "cell_type": "code",
   "execution_count": 54,
   "metadata": {
    "collapsed": false
   },
   "outputs": [
    {
     "data": {
      "image/png": "[encoded data removed]",
      "text/plain": [
       "<matplotlib.figure.Figure at 0x1f748ac7d68>"
      ]
     },
     "metadata": {},
     "output_type": "display_data"
    }
   ],
   "source": [
    "#show graph for feature importance for Decision Tree Classifier \n",
    "plt.barh(range(len(feature_imp_ng_dt)), feature_imp_ng_dt)\n",
    "plt.title(\"Feature importance for Decision Tree Classifier\")\n",
    "plt.show()"
   ]
  },
  {
   "cell_type": "markdown",
   "metadata": {},
   "source": [
    "### 2d. Analyze the Results using your chosen method of evaluation"
   ]
  },
  {
   "cell_type": "markdown",
   "metadata": {},
   "source": [
    "When attempting to predict price level via k-Nearest Neighbors, Random Forest, and Decision Trees, the accuracies were 0.885, 0.884, and 0.976, respectively. When attempting to predict the neighbourhood for the same models, the accuracy levels were 0.785, 0.776, and 0.772, respectively.\n",
    "\n",
    "The reason why Decision Trees tended to score much higher in terms of accuracy for price level is mostly due to the \"pruning\" techniques administered as well as other criteria. Basically, with \"entropy\" as our main criteria and setting out maximum depth to 10, we were able to achieve this level of accuracy. But when using Decision Trees to determine the neighbourhood, the \"pruning\" needed to not happen nearly as much, with no Maximum Depth required and the criteria to be \"gini\" instead of entropy. Even with no limit on the maximum number of levels, the Decision Tree was still not as useful as both the KNN or the Random Forest models were.\n",
    "\n",
    "However, even with the accuracy seen in the first Decision Tree for price, it may make more sense to go with the success of the KNN model for this particular exercise. With only looking at 5 of its nearest records, this model is able to accurately predict the price level 89% of the time with price and 79% of the time for the neighborhood. The way in which this model functions aligns greatly with some of the suggestions that are discussed in the Deployment section of the notebook in regards to how useful this predictive model would be and why.\n",
    "\n",
    "As with the Random Forest Classifier, even though it also predicted very well, it was slightly less accurate than KNN by 0.05 percentage points for price and nearly 0.1 percentage points for neighbourhood, which is likely not a \"Statistically Significant\" difference. Since KNN fits better with how we believe this model would work, Random Forest would not be as desirable overall."
   ]
  },
  {
   "cell_type": "markdown",
   "metadata": {},
   "source": [
    "### 2e. Discuss the advantages of each model for each task and why?"
   ]
  },
  {
   "cell_type": "markdown",
   "metadata": {},
   "source": [
    "##### k-Nearest Neighbors\n",
    "Overall, it makes sense that k-Nearest Neighbors is the model that seems to work the best from an accuracy perspective. The city of New York, specifically the island of Manhattan, is made up of several smaller neighborhoods (31 in Manhattan) with each of these neighborhoods offering their own unique \"New York City\" quality and feel, from Hell's Kitchen to the Theater District to Harlem to SoHo, just to name a few. With hosts highlighting those qualities within a listing on AirBnB, it's no real surprise that KNN provided the most accurate model, even if just by a couple of percentage points.\n",
    "\n",
    "For the \"price range\" prediction, the advantages of using the KNN method to predict price range as well as the number of \"neighbors\" we chose heavily favors the way in which a site like AirBnB truly operates. Because when determining price range is not purely focused on attributes such as \"number of reviews\" or \"minimum nights\", this method is largely looking at attributes such as \"room type\" and even more importantly the one-hot encoded neighborhood where the listing is located. For example, if we are predicting the price range of a private room in the West Village that is available year-round, our KNN model will look to the 5-nearest neighbors to predict that price range, and because Manhattan is so neighborhood-centric, our model is essentially correct 89% of the time.\n",
    "\n",
    "When looking at predicting the \"neighborhood\" of the listing in Manhattan, the accuracy (although not as high as 89%) was still favorable at 78% for the KNN model. Similar to how the model worked when determining the price range, the one-hot encoded attributes of price range were used for this model and essentially worked in the same way, locating the nearest neihgbors sharing those listing's qualities and accurately predicting the correct neighborhood 4 out of 5 times. The accuracy is less for neighborhood most likely because there will always be a listing that for whatever reason is priced unreasonably low or unreasonably high and without the model knowing the context of those listings initially, the accuracy may decrease. In order to increase the accuracy, looking in more detail at the listings that were inaccurately predicted will provide us with more insight and we can go back and tweak future models to take those insights into consideration.\n",
    "\n",
    "##### Random Forest\n",
    "It is no surprise that the Random Forest model performed at basically the same level as the KNN model did due to how this model is set up. Not only does the randomness of the samples help with this particular dataset, but it aids in removing any of the bias the data may have underneath. The bias in this case would be how weighted some categories may be compared to others, such as certain neighbourhoods or price ranges as well as the other attributes such as availability and minimum nights. However, even though Random Forest proved to be a good model, it is not necessarily the ideal model in the case of this dataset as discussed above.\n",
    "\n",
    "##### Decision Tree\n",
    "Because there is so much customization that goes into running a Decision Tree model, this type of classification is not necessarily ideal with this particular dataset. A Decision Tree, unless otherwise told not to, can continue splitting its classes until there is only one record in a certain node. Even though this is accurate nearly 100% of the time, it doesn't do our any better in the case of predicting neighbourhood."
   ]
  },
  {
   "cell_type": "markdown",
   "metadata": {},
   "source": [
    "### 2f. Which attributes from your analysis are most important?"
   ]
  },
  {
   "cell_type": "markdown",
   "metadata": {},
   "source": [
    "##### Attributes of Predicting Price Range\n",
    "Because when we one-hot encode all of the neighbourhoods as well as placing each of the prices into one of 50 price bins, the relative importance of these attributes are much less significant in terms of the weight; however, when viewed in aggregate, they are nearly in-line with all of the other attributes used in the model. \n",
    "\n",
    "Interestingly enough, the availability and minimum nights seemed to be the most weighted attributes, specifically in the Random Forest model, with Room Type at the aggregate level also being nearly equally as important.\n",
    "\n",
    "##### Attributes of Predicting Neighbourhood\n",
    "The primary attributes that seemed to have a higher relative importance were somewhat surprisingly the availability of a listing (i.e. how many days a year is this listing available?) and the number of reviews a listing received. The number of reviews makes more sense than availability does overall because neighbourhoods that may have more listings may also have more reviews in aggregate. Similar to the availability attribute, a majority of listings are available year-round, so this would tend to weigh heavily for those listings which may not be available 365 days a year. \n",
    "\n",
    "Additionally, similar to what we observed in predicting price range, the price range at the individual level was extremely small when predicting neighbourhood; however, when added up in aggregate, knowing the price range definitely played a role in helping to determine the neighbourhood."
   ]
  },
  {
   "cell_type": "markdown",
   "metadata": {},
   "source": [
    "## 3. Deployment"
   ]
  },
  {
   "cell_type": "markdown",
   "metadata": {},
   "source": [
    "##### How useful is your model for interested parties?\n",
    "Just like any hotel or accommodation website that aggregates listings of various places to stay within a city, the competitive landscape is going to be fierce. Because the model(s) are attempting to predict either the price bin/range or the neighbourhood, there are essentially two primary ways to effectively use the models presented. \n",
    "\n",
    "First, for consumers of the website, it could be a more accurate representation of \"similar listings\" that are currenty available per the user's criteria. For example, a listing near Central Park is priced at 166 USD; however, their \"similar\" listings are not only an average of 1.5 miles away (which is quite the distance in Manhattan), but their respective prices range from 97 USD to 197 USD. Our proposed model would be able to offer listings that are not only closer in proximity but are also closer within the price range of the listing being viewed. The elimination of these variables from a decision-making process allows the consumer to focus on more qualitative attributes, such as the types of restaurants or attractions nearby or even the characteristics of the apartment itself.\n",
    "\n",
    "Second, the model could lend itself to providing more insights to the hosts who provide listings on AirBnB, thereby ensuring the host that the prices they are setting can be considered competitive based on other listings that have been classified similarly. For example, if a host is creating a listing for a whole apartment in the Tribeca neighborhood of Manhattan and this particular is one of five total listings, the classification model can accurately provide the host with an appropriate price range that listing should fall into. At this point, they can choose to go high or low or stay within the given range for the listing and take their chances on a booking based on that decision.\n",
    "\n",
    "##### How would you measure the model's value if it was used by these parties?\n",
    "There are potentially several key performance indicators or KPIs that AirBnB could observe to measure the value of implementing this model based on the two scenarios provided above. \n",
    "\n",
    "For the consumer/similar listings usage, AirBnB can perform several A/B Tests on various listings, where the model is used to showcase similar listings vs. a control group that uses the current model to display similar listings. The measure of success in this case would be the \"click-through rate\" of a user engaging with this particular piece of content, which is simpaly calculated as the total number of pageviews to a certain listing divided by the total number of clicks on a similar listing. This measure can be looked at both from an aggregated as well as a very granular level of detail to better understand how the models affect this KPI for various neighborhoods, room types, etc.\n",
    "\n",
    "FOr the host/listing price usage, a similar type of KPI can be observed as well. A \"booking rate\" can be calculated by the number of times a listing was viewed vs. the total number of bookings within a certain time period. The model's effectiveness can be tested by grouping listings that stay within the price range suggested (i.e. \"following the model\") for a listing vs. those listings that do not follow the guidance of the suggested price range. If the booking rate showed to be successful for ones that followed the model's recommendations, it could be assumed that the reason higher-priced listings did not book as well is because users found similar listings for less and booked them instead, whereas listings that were lower than the suggested price range could have been seen as a listing with possible issues that were not directly addressed in the listing itself, therefore causing users to pay a little more for what is only assumed to be a better apartment in the area because it is only slightly more in overall price.\n",
    "\n",
    "##### How would your deploy your model for interested parties?\n",
    "For the consumers of the website, the model could be deployed like any typical algorithm or model is for similar websites. In order to retrieve similar listings, AirBnB would have to analyze a \"live dataset\" of listings that have the model's predictability applied to it and based on either an accuracy score or precision score, the top 3 listings are sent back to the website to be served up as \"similar listings\" that share attributes with the listing being viewed.\n",
    "\n",
    "For the hosts that use AirBnB, a user interface could be created (which is likely already in place) where a host inputs all of the necessary information for a listing to be approved. Within that interface would be a newly-added section that provides a \"suggested price range\" to the host. At this point, it is up to the host to place their price on the listing, but the model at the least provides the host with useful information and giving insight into what other listings are currently priced at for similar attributes.\n",
    "\n",
    "##### What other data should be collected?\n",
    "There wouldn't be too much more that would likely improve the model overall; however, other attributes over time may be looked at as valuable if/when price range and neighborhood is no longer an accurate-enough model. Other attributes that have more to do with room characteristics that can be quantified as well as being able to provide a quantitative value to \"nearby\" qualities may be useful. For example, being able to state how many restaurants are within 0.5 miles of the listing or the actual distance to the nearest subway station may be useful attributes for a city such as Manhattan. However, if this model were to be more widely used, the model may have to be modified to align with a city's unique traits. For example, in Atlanta, the distance to the nearest MARTA station is basically irrelevant (Atlanta's Mass Transit is horrible); but the distance to specific neighborhoods such as Midtown or Buckhead or the distance to Peachtree Street (the main \"street\" that runs the length of Atlanta) could be considered more useful to people viewing listings in that city.\n",
    "\n",
    "##### How often would the model need to be updated, etc.?\n",
    "According to AirBnB's website where they publish their listing data, the frequency of New York City's listings being udpated is monthly; therefore, it would be recommended to re-train and test the model on a monthly basis. Performing this task at this frequency level may also assist with changes in price ranges due to seasonality and other time-series-based shifts in the data being observed."
   ]
  },
  {
   "cell_type": "code",
   "execution_count": null,
   "metadata": {
    "collapsed": true
   },
   "outputs": [],
   "source": []
  }
 ],
 "metadata": {
  "kernelspec": {
   "display_name": "Python [conda root]",
   "language": "python",
   "name": "conda-root-py"
  },
  "language_info": {
   "codemirror_mode": {
    "name": "ipython",
    "version": 3
   },
   "file_extension": ".py",
   "mimetype": "text/x-python",
   "name": "python",
   "nbconvert_exporter": "python",
   "pygments_lexer": "ipython3",
   "version": "3.5.2"
  }
 },
 "nbformat": 4,
 "nbformat_minor": 0
}
